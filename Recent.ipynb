{
  "nbformat": 4,
  "nbformat_minor": 0,
  "metadata": {
    "colab": {
      "name": "Recent.ipynb",
      "provenance": [],
      "authorship_tag": "ABX9TyOWzpeC+6j3HrjZyKhB7Pbk",
      "include_colab_link": true
    },
    "kernelspec": {
      "name": "python3",
      "display_name": "Python 3"
    },
    "language_info": {
      "name": "python"
    }
  },
  "cells": [
    {
      "cell_type": "markdown",
      "metadata": {
        "id": "view-in-github",
        "colab_type": "text"
      },
      "source": [
        "<a href=\"https://colab.research.google.com/github/subshr4/subshr4/blob/main/Recent.ipynb\" target=\"_parent\"><img src=\"https://colab.research.google.com/assets/colab-badge.svg\" alt=\"Open In Colab\"/></a>"
      ]
    },
    {
      "cell_type": "markdown",
      "source": [
        "Subani Shrestha"
      ],
      "metadata": {
        "id": "jc3ll-eFN7qy"
      }
    },
    {
      "cell_type": "markdown",
      "source": [
        "# Recent Visualization Project"
      ],
      "metadata": {
        "id": "H5Q44sXHWuFs"
      }
    },
    {
      "cell_type": "markdown",
      "source": [
        "I have selected the rising speed of technology adoption as my timely topic for this recent visualization project. The rate at which newly commercialized technologies get adopted by consumers is also getting faster.In the modern world, through increased connectivity, instant communication, and established infrastructure systems, new ideas and products can spread at speeds never seen before, and this enables a new product to get in the hands of consumers in the blink of an eye.\n",
        "\n",
        "Here the graph shows the adoption rates for the household appliances and products today that we would consider pretty essential, over a period of more than 120 years:"
      ],
      "metadata": {
        "id": "AuIbe585N9VT"
      }
    },
    {
      "cell_type": "code",
      "source": [
        "![picture](https://www.visualcapitalist.com/wp-content/uploads/2018/02/old-tech.jpg)"
      ],
      "metadata": {
        "colab": {
          "base_uri": "https://localhost:8080/"
        },
        "id": "TSCbgEKhTvYV",
        "outputId": "d69a1a26-0204-42be-863d-0ea97f087825"
      },
      "execution_count": 6,
      "outputs": [
        {
          "output_type": "stream",
          "name": "stdout",
          "text": [
            "/bin/bash: -c: line 0: syntax error near unexpected token `https://www.visualcapitalist.com/wp-content/uploads/2018/02/old-tech.jpg'\n",
            "/bin/bash: -c: line 0: `[picture](https://www.visualcapitalist.com/wp-content/uploads/2018/02/old-tech.jpg)'\n"
          ]
        }
      ]
    },
    {
      "cell_type": "markdown",
      "source": [
        "Here is a chart with many older technologies removed and this chart shows that newer technology gets adopted more quickly.. \n",
        " Standing out most on the chart is the tablet computer, which went from nearly 0% to 50% adoption in five years or so.\n",
        "\n"
      ],
      "metadata": {
        "id": "nlRlA6ftU1fZ"
      }
    },
    {
      "cell_type": "code",
      "source": [
        "![picture](https://www.visualcapitalist.com/wp-content/uploads/2018/02/newer-tech.jpg)"
      ],
      "metadata": {
        "colab": {
          "base_uri": "https://localhost:8080/"
        },
        "id": "s-dAr8lTU05q",
        "outputId": "6817e6ba-40cd-4c54-a701-5e96958049bd"
      },
      "execution_count": 7,
      "outputs": [
        {
          "output_type": "stream",
          "name": "stdout",
          "text": [
            "/bin/bash: -c: line 0: syntax error near unexpected token `https://www.visualcapitalist.com/wp-content/uploads/2018/02/newer-tech.jpg'\n",
            "/bin/bash: -c: line 0: `[picture](https://www.visualcapitalist.com/wp-content/uploads/2018/02/newer-tech.jpg)'\n"
          ]
        }
      ]
    }
  ]
}