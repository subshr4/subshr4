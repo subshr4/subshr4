{
  "nbformat": 4,
  "nbformat_minor": 0,
  "metadata": {
    "colab": {
      "name": "VisualizationProject.ipynb",
      "provenance": [],
      "authorship_tag": "ABX9TyOhW8putKen7vyMpo6KRQYz",
      "include_colab_link": true
    },
    "kernelspec": {
      "name": "python3",
      "display_name": "Python 3"
    },
    "language_info": {
      "name": "python"
    }
  },
  "cells": [
    {
      "cell_type": "markdown",
      "metadata": {
        "id": "view-in-github",
        "colab_type": "text"
      },
      "source": [
        "<a href=\"https://colab.research.google.com/github/subshr4/subshr4/blob/main/VisualizationProject.ipynb\" target=\"_parent\"><img src=\"https://colab.research.google.com/assets/colab-badge.svg\" alt=\"Open In Colab\"/></a>"
      ]
    },
    {
      "cell_type": "markdown",
      "source": [
        "Subani Shrestha"
      ],
      "metadata": {
        "id": "bImAzDfQ6e0y"
      }
    },
    {
      "cell_type": "markdown",
      "source": [
        "# **Recreating The Masters**\n",
        "\n",
        "Employment rate by age group "
      ],
      "metadata": {
        "id": "_qi3jWXa6hdc"
      }
    },
    {
      "cell_type": "markdown",
      "source": [
        "Here, My topic for this project is employment rate by age group. Here, the employment rates are shown for four age groups: people aged 15-64 (the working age population): people aged 15 to 24 (those just entering the labour market following education); people aged 25 to 54 (those in their prime working lives); people aged 55 to 64 (those passing the peak of their career and approaching retirement). This indicator is seasonally adjusted and it is measured as a percentage in same age group.\n",
        "\n",
        "\n",
        "Here, I am only targetting to show employment rate in seven different countries (South Africa, Italy, United States, Australia, Canada, Russia, and UK) for employed people aged ((25-34) those in their prime working lives) yearly.\n"
      ],
      "metadata": {
        "id": "VNUqwGeYIgpu"
      }
    },
    {
      "cell_type": "markdown",
      "source": [
        "\n",
        "# Source\n",
        "https://data.oecd.org/emp/employment-rate-by-age-group.htm#indicator-chart"
      ],
      "metadata": {
        "id": "mD8g3PLxIl41"
      }
    },
    {
      "cell_type": "markdown",
      "source": [
        "# Image link"
      ],
      "metadata": {
        "id": "eoK2JcSuIul7"
      }
    },
    {
      "cell_type": "code",
      "source": [
        "![picture] (https://drive.google.com/file/d/1xiL_JxDHmHHPOiY5lKqVVGTjVxThKOfJ/view?usp=sharing)"
      ],
      "metadata": {
        "colab": {
          "base_uri": "https://localhost:8080/"
        },
        "id": "XRKtU5VAHaZp",
        "outputId": "11028f50-a661-45bf-c266-fff47ef9297e"
      },
      "execution_count": 7,
      "outputs": [
        {
          "output_type": "stream",
          "name": "stdout",
          "text": [
            "/bin/bash: -c: line 0: syntax error near unexpected token `https://drive.google.com/file/d/1xiL_JxDHmHHPOiY5lKqVVGTjVxThKOfJ/view?usp=sharing'\n",
            "/bin/bash: -c: line 0: `[picture] (https://drive.google.com/file/d/1xiL_JxDHmHHPOiY5lKqVVGTjVxThKOfJ/view?usp=sharing)'\n"
          ]
        }
      ]
    },
    {
      "cell_type": "markdown",
      "source": [
        "Dataset Source\n",
        "\n",
        "\n",
        "\n",
        "https://docs.google.com/spreadsheets/d/e/2PACX-1vQGivc_7vQaWWjVMxtbrvMkCv1RqSbqqPgv20oF9FE2Ab83uVs8joPAxAQgdSuSmZB35ciSrDcq_pLU/pub?gid=0&single=true&output=csv"
      ],
      "metadata": {
        "id": "DwVA2cWY8rCo"
      }
    },
    {
      "cell_type": "markdown",
      "source": [
        "# Visualization Excellence"
      ],
      "metadata": {
        "id": "unAe-ScuCjF3"
      }
    },
    {
      "cell_type": "markdown",
      "source": [
        "The grpah shown above is the bar graph and I believe bar graph makes it easier to compare sets of data between different groups. The way the employment rate of seven different countries is shown is very simple and easier to understand so this is a visually excellent graph.\n",
        "\n"
      ],
      "metadata": {
        "id": "Y7u5rxF6Cm4I"
      }
    },
    {
      "cell_type": "markdown",
      "source": [
        "# Visualization Description"
      ],
      "metadata": {
        "id": "ztleQ0I9A96l"
      }
    },
    {
      "cell_type": "markdown",
      "source": [
        "Here, this graph provides employment rate of seven different countries ( South Africa, Italy, United States, Australia, Canada, Russia, and UK ) yearly. Here employed people are of age group 25-34. In comparison, Russia has the highest employment rate from 2017 to 2021 whereas South Africa has the lowest employment rate."
      ],
      "metadata": {
        "id": "Bun8xeddBMze"
      }
    },
    {
      "cell_type": "markdown",
      "source": [
        "# Hardship"
      ],
      "metadata": {
        "id": "ky26mjRuDeLQ"
      }
    },
    {
      "cell_type": "markdown",
      "source": [
        "As we can select different graph according to different age group or country so its not easy to create the visualization in same format. So, I am only targetting to show employment rate in seven different countries (South Africa, Italy, United States, Australia, Canada, Russia, and UK) for employed people aged ((25-34) those in their prime working lives) yearly. I hope I will present this graph as shown in employment visualization."
      ],
      "metadata": {
        "id": "hMLbWkqSDgij"
      }
    }
  ]
}