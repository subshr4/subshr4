{
  "nbformat": 4,
  "nbformat_minor": 0,
  "metadata": {
    "colab": {
      "name": "Quiz14.ipynb",
      "provenance": [],
      "authorship_tag": "ABX9TyPheiqU5AARLBcrS29CWpB2",
      "include_colab_link": true
    },
    "kernelspec": {
      "name": "python3",
      "display_name": "Python 3"
    },
    "language_info": {
      "name": "python"
    }
  },
  "cells": [
    {
      "cell_type": "markdown",
      "metadata": {
        "id": "view-in-github",
        "colab_type": "text"
      },
      "source": [
        "<a href=\"https://colab.research.google.com/github/subshr4/subshr4/blob/main/Quiz14.ipynb\" target=\"_parent\"><img src=\"https://colab.research.google.com/assets/colab-badge.svg\" alt=\"Open In Colab\"/></a>"
      ]
    },
    {
      "cell_type": "markdown",
      "source": [
        "Subani Shrestha"
      ],
      "metadata": {
        "id": "Cq-VJtJqxWU4"
      }
    },
    {
      "cell_type": "code",
      "source": [
        "song = 'Happy birthday to you  '\n",
        "\n",
        "print(song)"
      ],
      "metadata": {
        "colab": {
          "base_uri": "https://localhost:8080/"
        },
        "id": "ATnH_ie_xYP_",
        "outputId": "4167c5e4-017f-42af-e763-392567649bbf"
      },
      "execution_count": 1,
      "outputs": [
        {
          "output_type": "stream",
          "name": "stdout",
          "text": [
            "Happy birthday to you  \n"
          ]
        }
      ]
    },
    {
      "cell_type": "code",
      "source": [
        "wish= 'Happy birthday dear subani '\n",
        "\n",
        "song + song + \" \" + wish+ song"
      ],
      "metadata": {
        "colab": {
          "base_uri": "https://localhost:8080/",
          "height": 37
        },
        "id": "-Bsy7snLxd1p",
        "outputId": "b0cdc215-7b41-4dd4-fa96-b85d50229bc9"
      },
      "execution_count": 2,
      "outputs": [
        {
          "output_type": "execute_result",
          "data": {
            "application/vnd.google.colaboratory.intrinsic+json": {
              "type": "string"
            },
            "text/plain": [
              "'Happy birthday to you  Happy birthday to you   Happy birthday dear subani Happy birthday to you  '"
            ]
          },
          "metadata": {},
          "execution_count": 2
        }
      ]
    },
    {
      "cell_type": "code",
      "source": [
        "wish.find('subani')"
      ],
      "metadata": {
        "colab": {
          "base_uri": "https://localhost:8080/"
        },
        "id": "QIsLjgeZxlsk",
        "outputId": "1dd48552-b9e7-4f91-aa8d-d33f79e4998d"
      },
      "execution_count": 3,
      "outputs": [
        {
          "output_type": "execute_result",
          "data": {
            "text/plain": [
              "20"
            ]
          },
          "metadata": {},
          "execution_count": 3
        }
      ]
    },
    {
      "cell_type": "code",
      "source": [
        "wish.replace('subani', 'Subani')"
      ],
      "metadata": {
        "colab": {
          "base_uri": "https://localhost:8080/",
          "height": 37
        },
        "id": "PQvHCLwJxwLi",
        "outputId": "f9162808-336d-48a5-dd2f-37cd1553fcb3"
      },
      "execution_count": 4,
      "outputs": [
        {
          "output_type": "execute_result",
          "data": {
            "application/vnd.google.colaboratory.intrinsic+json": {
              "type": "string"
            },
            "text/plain": [
              "'Happy birthday dear Subani '"
            ]
          },
          "metadata": {},
          "execution_count": 4
        }
      ]
    },
    {
      "cell_type": "code",
      "source": [
        "song = 'Happy birthday to you,\\nHappy birthday to you,\\nHappy birthday dear Subani,\\nHappy birthday to you.'\n",
        "\n",
        "print(song)"
      ],
      "metadata": {
        "colab": {
          "base_uri": "https://localhost:8080/"
        },
        "id": "oCmXwk4fx0rj",
        "outputId": "0285a9ef-f812-4489-a7e7-3c53c8d88677"
      },
      "execution_count": 5,
      "outputs": [
        {
          "output_type": "stream",
          "name": "stdout",
          "text": [
            "Happy birthday to you,\n",
            "Happy birthday to you,\n",
            "Happy birthday dear Subani,\n",
            "Happy birthday to you.\n"
          ]
        }
      ]
    },
    {
      "cell_type": "code",
      "source": [
        "song1 = str.upper('Happy birthday to you,\\nHappy birthday to you,\\nHappy birthday dear Subani,\\nHappy birthday to you.  ')\n",
        "print(song1)"
      ],
      "metadata": {
        "id": "faK6fngOx7Ul",
        "outputId": "be437594-fc63-49b4-cf87-cdc6023e91cd",
        "colab": {
          "base_uri": "https://localhost:8080/"
        }
      },
      "execution_count": 6,
      "outputs": [
        {
          "output_type": "stream",
          "name": "stdout",
          "text": [
            "HAPPY BIRTHDAY TO YOU,\n",
            "HAPPY BIRTHDAY TO YOU,\n",
            "HAPPY BIRTHDAY DEAR SUBANI,\n",
            "HAPPY BIRTHDAY TO YOU.  \n"
          ]
        }
      ]
    }
  ]
}