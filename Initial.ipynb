{
  "nbformat": 4,
  "nbformat_minor": 0,
  "metadata": {
    "colab": {
      "name": "Initial.ipynb",
      "provenance": [],
      "authorship_tag": "ABX9TyOWG9z+Qy9GTrP+oWcTueSX",
      "include_colab_link": true
    },
    "kernelspec": {
      "name": "python3",
      "display_name": "Python 3"
    },
    "language_info": {
      "name": "python"
    }
  },
  "cells": [
    {
      "cell_type": "markdown",
      "metadata": {
        "id": "view-in-github",
        "colab_type": "text"
      },
      "source": [
        "<a href=\"https://colab.research.google.com/github/subshr4/subshr4/blob/main/Initial.ipynb\" target=\"_parent\"><img src=\"https://colab.research.google.com/assets/colab-badge.svg\" alt=\"Open In Colab\"/></a>"
      ]
    },
    {
      "cell_type": "markdown",
      "source": [
        "Subani Shrestha"
      ],
      "metadata": {
        "id": "d8yD5jVlh3ZU"
      }
    },
    {
      "cell_type": "markdown",
      "source": [
        "Here is the link of the visualization's picture of Employment Rate by Age group in seven different countries."
      ],
      "metadata": {
        "id": "J_zcaff8aiGZ"
      }
    },
    {
      "cell_type": "code",
      "source": [
        "![picture] (https://drive.google.com/file/d/1xiL_JxDHmHHPOiY5lKqVVGTjVxThKOfJ/view?usp=sharing)"
      ],
      "metadata": {
        "colab": {
          "base_uri": "https://localhost:8080/"
        },
        "id": "Jg0Q6mxih4_9",
        "outputId": "3addc36f-cde4-4a5e-a45f-dbeae5d586f3"
      },
      "execution_count": 3,
      "outputs": [
        {
          "output_type": "stream",
          "name": "stdout",
          "text": [
            "/bin/bash: -c: line 0: syntax error near unexpected token `https://drive.google.com/file/d/1xiL_JxDHmHHPOiY5lKqVVGTjVxThKOfJ/view?usp=sharing'\n",
            "/bin/bash: -c: line 0: `[picture] (https://drive.google.com/file/d/1xiL_JxDHmHHPOiY5lKqVVGTjVxThKOfJ/view?usp=sharing)'\n"
          ]
        }
      ]
    },
    {
      "cell_type": "markdown",
      "source": [
        "Here I imported all the required libraries."
      ],
      "metadata": {
        "id": "_zXok3NuahYH"
      }
    },
    {
      "cell_type": "code",
      "source": [
        "import pandas as pd\n",
        "import matplotlib.pyplot as plt\n",
        "import seaborn as sns\n",
        "import numpy as np\n",
        "\n"
      ],
      "metadata": {
        "id": "HPxsrD5tqEzu"
      },
      "execution_count": 69,
      "outputs": []
    },
    {
      "cell_type": "markdown",
      "source": [
        "Here I am using read_csv to read the dataset for Employment by age group."
      ],
      "metadata": {
        "id": "-azzddEJa7J2"
      }
    },
    {
      "cell_type": "code",
      "source": [
        "dataframe = pd.read_csv('https://docs.google.com/spreadsheets/d/e/2PACX-1vQGivc_7vQaWWjVMxtbrvMkCv1RqSbqqPgv20oF9FE2Ab83uVs8joPAxAQgdSuSmZB35ciSrDcq_pLU/pub?gid=0&single=true&output=csv', index_col=1)\n",
        "\n",
        "dataframe.head(5)"
      ],
      "metadata": {
        "colab": {
          "base_uri": "https://localhost:8080/",
          "height": 235
        },
        "id": "F6W3rOrH7RLX",
        "outputId": "7bfe486f-53c7-4d39-8279-3fbc259bf850"
      },
      "execution_count": 31,
      "outputs": [
        {
          "output_type": "execute_result",
          "data": {
            "text/plain": [
              "          Location    Age Measure Frequency  Time     Value\n",
              "Indicator                                                  \n",
              "EMPAGE         AUS  25_54  PC_AGE         A  2017  80.22530\n",
              "EMPAGE         AUS  25_54  PC_AGE         A  2018  80.96532\n",
              "EMPAGE         AUS  25_54  PC_AGE         A  2019  81.55085\n",
              "EMPAGE         AUS  25_54  PC_AGE         A  2020  80.11678\n",
              "EMPAGE         AUS  25_54  PC_AGE         A  2021  81.88197"
            ],
            "text/html": [
              "\n",
              "  <div id=\"df-98b42f2a-ddef-4c4e-9589-291b022561d2\">\n",
              "    <div class=\"colab-df-container\">\n",
              "      <div>\n",
              "<style scoped>\n",
              "    .dataframe tbody tr th:only-of-type {\n",
              "        vertical-align: middle;\n",
              "    }\n",
              "\n",
              "    .dataframe tbody tr th {\n",
              "        vertical-align: top;\n",
              "    }\n",
              "\n",
              "    .dataframe thead th {\n",
              "        text-align: right;\n",
              "    }\n",
              "</style>\n",
              "<table border=\"1\" class=\"dataframe\">\n",
              "  <thead>\n",
              "    <tr style=\"text-align: right;\">\n",
              "      <th></th>\n",
              "      <th>Location</th>\n",
              "      <th>Age</th>\n",
              "      <th>Measure</th>\n",
              "      <th>Frequency</th>\n",
              "      <th>Time</th>\n",
              "      <th>Value</th>\n",
              "    </tr>\n",
              "    <tr>\n",
              "      <th>Indicator</th>\n",
              "      <th></th>\n",
              "      <th></th>\n",
              "      <th></th>\n",
              "      <th></th>\n",
              "      <th></th>\n",
              "      <th></th>\n",
              "    </tr>\n",
              "  </thead>\n",
              "  <tbody>\n",
              "    <tr>\n",
              "      <th>EMPAGE</th>\n",
              "      <td>AUS</td>\n",
              "      <td>25_54</td>\n",
              "      <td>PC_AGE</td>\n",
              "      <td>A</td>\n",
              "      <td>2017</td>\n",
              "      <td>80.22530</td>\n",
              "    </tr>\n",
              "    <tr>\n",
              "      <th>EMPAGE</th>\n",
              "      <td>AUS</td>\n",
              "      <td>25_54</td>\n",
              "      <td>PC_AGE</td>\n",
              "      <td>A</td>\n",
              "      <td>2018</td>\n",
              "      <td>80.96532</td>\n",
              "    </tr>\n",
              "    <tr>\n",
              "      <th>EMPAGE</th>\n",
              "      <td>AUS</td>\n",
              "      <td>25_54</td>\n",
              "      <td>PC_AGE</td>\n",
              "      <td>A</td>\n",
              "      <td>2019</td>\n",
              "      <td>81.55085</td>\n",
              "    </tr>\n",
              "    <tr>\n",
              "      <th>EMPAGE</th>\n",
              "      <td>AUS</td>\n",
              "      <td>25_54</td>\n",
              "      <td>PC_AGE</td>\n",
              "      <td>A</td>\n",
              "      <td>2020</td>\n",
              "      <td>80.11678</td>\n",
              "    </tr>\n",
              "    <tr>\n",
              "      <th>EMPAGE</th>\n",
              "      <td>AUS</td>\n",
              "      <td>25_54</td>\n",
              "      <td>PC_AGE</td>\n",
              "      <td>A</td>\n",
              "      <td>2021</td>\n",
              "      <td>81.88197</td>\n",
              "    </tr>\n",
              "  </tbody>\n",
              "</table>\n",
              "</div>\n",
              "      <button class=\"colab-df-convert\" onclick=\"convertToInteractive('df-98b42f2a-ddef-4c4e-9589-291b022561d2')\"\n",
              "              title=\"Convert this dataframe to an interactive table.\"\n",
              "              style=\"display:none;\">\n",
              "        \n",
              "  <svg xmlns=\"http://www.w3.org/2000/svg\" height=\"24px\"viewBox=\"0 0 24 24\"\n",
              "       width=\"24px\">\n",
              "    <path d=\"M0 0h24v24H0V0z\" fill=\"none\"/>\n",
              "    <path d=\"M18.56 5.44l.94 2.06.94-2.06 2.06-.94-2.06-.94-.94-2.06-.94 2.06-2.06.94zm-11 1L8.5 8.5l.94-2.06 2.06-.94-2.06-.94L8.5 2.5l-.94 2.06-2.06.94zm10 10l.94 2.06.94-2.06 2.06-.94-2.06-.94-.94-2.06-.94 2.06-2.06.94z\"/><path d=\"M17.41 7.96l-1.37-1.37c-.4-.4-.92-.59-1.43-.59-.52 0-1.04.2-1.43.59L10.3 9.45l-7.72 7.72c-.78.78-.78 2.05 0 2.83L4 21.41c.39.39.9.59 1.41.59.51 0 1.02-.2 1.41-.59l7.78-7.78 2.81-2.81c.8-.78.8-2.07 0-2.86zM5.41 20L4 18.59l7.72-7.72 1.47 1.35L5.41 20z\"/>\n",
              "  </svg>\n",
              "      </button>\n",
              "      \n",
              "  <style>\n",
              "    .colab-df-container {\n",
              "      display:flex;\n",
              "      flex-wrap:wrap;\n",
              "      gap: 12px;\n",
              "    }\n",
              "\n",
              "    .colab-df-convert {\n",
              "      background-color: #E8F0FE;\n",
              "      border: none;\n",
              "      border-radius: 50%;\n",
              "      cursor: pointer;\n",
              "      display: none;\n",
              "      fill: #1967D2;\n",
              "      height: 32px;\n",
              "      padding: 0 0 0 0;\n",
              "      width: 32px;\n",
              "    }\n",
              "\n",
              "    .colab-df-convert:hover {\n",
              "      background-color: #E2EBFA;\n",
              "      box-shadow: 0px 1px 2px rgba(60, 64, 67, 0.3), 0px 1px 3px 1px rgba(60, 64, 67, 0.15);\n",
              "      fill: #174EA6;\n",
              "    }\n",
              "\n",
              "    [theme=dark] .colab-df-convert {\n",
              "      background-color: #3B4455;\n",
              "      fill: #D2E3FC;\n",
              "    }\n",
              "\n",
              "    [theme=dark] .colab-df-convert:hover {\n",
              "      background-color: #434B5C;\n",
              "      box-shadow: 0px 1px 3px 1px rgba(0, 0, 0, 0.15);\n",
              "      filter: drop-shadow(0px 1px 2px rgba(0, 0, 0, 0.3));\n",
              "      fill: #FFFFFF;\n",
              "    }\n",
              "  </style>\n",
              "\n",
              "      <script>\n",
              "        const buttonEl =\n",
              "          document.querySelector('#df-98b42f2a-ddef-4c4e-9589-291b022561d2 button.colab-df-convert');\n",
              "        buttonEl.style.display =\n",
              "          google.colab.kernel.accessAllowed ? 'block' : 'none';\n",
              "\n",
              "        async function convertToInteractive(key) {\n",
              "          const element = document.querySelector('#df-98b42f2a-ddef-4c4e-9589-291b022561d2');\n",
              "          const dataTable =\n",
              "            await google.colab.kernel.invokeFunction('convertToInteractive',\n",
              "                                                     [key], {});\n",
              "          if (!dataTable) return;\n",
              "\n",
              "          const docLinkHtml = 'Like what you see? Visit the ' +\n",
              "            '<a target=\"_blank\" href=https://colab.research.google.com/notebooks/data_table.ipynb>data table notebook</a>'\n",
              "            + ' to learn more about interactive tables.';\n",
              "          element.innerHTML = '';\n",
              "          dataTable['output_type'] = 'display_data';\n",
              "          await google.colab.output.renderOutput(dataTable, element);\n",
              "          const docLink = document.createElement('div');\n",
              "          docLink.innerHTML = docLinkHtml;\n",
              "          element.appendChild(docLink);\n",
              "        }\n",
              "      </script>\n",
              "    </div>\n",
              "  </div>\n",
              "  "
            ]
          },
          "metadata": {},
          "execution_count": 31
        }
      ]
    },
    {
      "cell_type": "markdown",
      "source": [
        "Here, I grouped the graph by location . I still need to add different color for different countries. "
      ],
      "metadata": {
        "id": "J_e6yd1bbJC4"
      }
    },
    {
      "cell_type": "code",
      "source": [
        "fig=plt.figure (figsize=(15,8))\n",
        "ax=fig.add_subplot (1,1,1)\n",
        "\n",
        "\n",
        "\n",
        "\n",
        "\n",
        "ax = dataframe.groupby('Location').Value.agg('max').plot.bar(color = \"red\")\n",
        "ax.set(title = \"Employment Rate by Age Group\")\n",
        "ax.set(xlabel = 'Location')\n",
        "ax.set(ylabel = 'Value')\n",
        "plt.show()"
      ],
      "metadata": {
        "colab": {
          "base_uri": "https://localhost:8080/",
          "height": 524
        },
        "id": "GQSLz_pCYC7G",
        "outputId": "901a7fa4-f282-419c-fdac-63577d063709"
      },
      "execution_count": 83,
      "outputs": [
        {
          "output_type": "display_data",
          "data": {
            "text/plain": [
              "<Figure size 1080x576 with 1 Axes>"
            ],
            "image/png": "[encoded data removed]"
          },
          "metadata": {
            "needs_background": "light"
          }
        }
      ]
    },
    {
      "cell_type": "markdown",
      "source": [
        "Source\n",
        "\n",
        "https://data.oecd.org/emp/employment-rate-by-age-group.htm#indicator-chart\n",
        "\n",
        "\n",
        "This source shows many visualizations. I only focused on trying one graph which focus on age group (25-54) for seven different countries yearly. "
      ],
      "metadata": {
        "id": "Fu0q1raCciyL"
      }
    }
  ]
}