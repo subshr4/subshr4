{
  "nbformat": 4,
  "nbformat_minor": 0,
  "metadata": {
    "colab": {
      "name": "Exam 3.ipynb",
      "provenance": [],
      "collapsed_sections": [],
      "authorship_tag": "ABX9TyM7FkVuemss0YEUZS9KPk3n",
      "include_colab_link": true
    },
    "kernelspec": {
      "name": "python3",
      "display_name": "Python 3"
    },
    "language_info": {
      "name": "python"
    }
  },
  "cells": [
    {
      "cell_type": "markdown",
      "metadata": {
        "id": "view-in-github",
        "colab_type": "text"
      },
      "source": [
        "<a href=\"https://colab.research.google.com/github/subshr4/subshr4/blob/main/Exam_3.ipynb\" target=\"_parent\"><img src=\"https://colab.research.google.com/assets/colab-badge.svg\" alt=\"Open In Colab\"/></a>"
      ]
    },
    {
      "cell_type": "markdown",
      "source": [
        "Exam 3\n",
        "\n",
        "Subani Shrestha\n",
        "\n",
        "CPSMA 4313 "
      ],
      "metadata": {
        "id": "Ed09WWbOh_vc"
      }
    },
    {
      "cell_type": "markdown",
      "source": [
        "(a) (10 points) Store the data as a pandas dataframe. Find your favorite ‘club’ or ‘nationality’ (that is present in the data!), include a picture that represents them and include it in your notebook. (If no favorite, just pick one!)\n"
      ],
      "metadata": {
        "id": "g2yaXnBtrdYQ"
      }
    },
    {
      "cell_type": "markdown",
      "source": [
        "Firstly, I imported all the required libraries, then also stored the data as\n",
        "pandas dataframe. Here I have also included the picture of my favourite club by importing image from IPython.display."
      ],
      "metadata": {
        "id": "OphHguVmmkIp"
      }
    },
    {
      "cell_type": "code",
      "source": [
        "import pandas as pa\n",
        "import numpy as np\n",
        "import matplotlib.pyplot as plt\n",
        "import seaborn as sns\n",
        "\n",
        "df = pa.read_csv('https://raw.githubusercontent.com/nurfnick/Data_Viz/main/worldCupPlayer.csv')\n",
        "df"
      ],
      "metadata": {
        "colab": {
          "base_uri": "https://localhost:8080/",
          "height": 419
        },
        "id": "RcBN-A-jiUlY",
        "outputId": "8eb1d145-15e0-488f-c98a-3cee2f168bcd"
      },
      "execution_count": null,
      "outputs": [
        {
          "output_type": "execute_result",
          "data": {
            "text/plain": [
              "     Unnamed: 0  Rank                player           club  age   Apps  Mins  \\\n",
              "0             0     1          Hakim Ziyech           Ajax   25     34  3043   \n",
              "1             2     2   Alireza Jahanbakhsh     AZ Alkmaar   24     33  2840   \n",
              "2             4     3        Hirving Lozano  PSV Eindhoven   22     29  2350   \n",
              "3             6    11          Lasse Schone           Ajax   32  27(3)  2350   \n",
              "4            10    25        Santiago Arias  PSV Eindhoven   26     30  2664   \n",
              "..          ...   ...                   ...            ...  ...    ...   ...   \n",
              "598        1150   200    Giancarlo Gonzalez        Bologna   30     22  1858   \n",
              "599        1152   217  Stephan Lichtsteiner       Juventus   34  21(6)  1715   \n",
              "600        1154   235        Dawid Kownacki      Sampdoria   21  6(16)   811   \n",
              "601        1156   265     Emil Hallfredsson        Udinese   33  8(11)   761   \n",
              "602        1158   269         Marcus Rohden        Crotone   27  20(6)  1637   \n",
              "\n",
              "     Goals  Assists  Yel  Red  SpG    PS AerialsWon  MotM  Rating  nationality  \n",
              "0        9       15    4    0  4.9  75.4        0.2     9    8.21      Morocco  \n",
              "1       21       12    3    0  4.3  73.4        0.7    14    8.20         Iran  \n",
              "2       17        8    4    2  3.4  75.3        0.6     8    7.90       Mexico  \n",
              "3       10        3    6    0  1.9  87.0        1.9     2    7.45      Denmark  \n",
              "4        3        6    5    0  1.5  82.3          1     2    7.25     Colombia  \n",
              "..     ...      ...  ...  ...  ...   ...        ...   ...     ...          ...  \n",
              "598      0        0    4    2    -  80.6        2.4     0    6.63   Costa Rica  \n",
              "599      0        2    6    0  0.1  82.2        0.9     0    6.59  Switzerland  \n",
              "600      5        1    0    0    1  75.4        1.4     0    6.51       Poland  \n",
              "601      0        0    5    0  0.1  88.5        0.6     0    6.39      Iceland  \n",
              "602      2        0    2    0  0.8  67.6        0.8     0    6.35       Sweden  \n",
              "\n",
              "[603 rows x 17 columns]"
            ],
            "text/html": [
              "\n",
              "  <div id=\"df-2bd74fc7-03e3-4003-9156-00345decb0ca\">\n",
              "    <div class=\"colab-df-container\">\n",
              "      <div>\n",
              "<style scoped>\n",
              "    .dataframe tbody tr th:only-of-type {\n",
              "        vertical-align: middle;\n",
              "    }\n",
              "\n",
              "    .dataframe tbody tr th {\n",
              "        vertical-align: top;\n",
              "    }\n",
              "\n",
              "    .dataframe thead th {\n",
              "        text-align: right;\n",
              "    }\n",
              "</style>\n",
              "<table border=\"1\" class=\"dataframe\">\n",
              "  <thead>\n",
              "    <tr style=\"text-align: right;\">\n",
              "      <th></th>\n",
              "      <th>Unnamed: 0</th>\n",
              "      <th>Rank</th>\n",
              "      <th>player</th>\n",
              "      <th>club</th>\n",
              "      <th>age</th>\n",
              "      <th>Apps</th>\n",
              "      <th>Mins</th>\n",
              "      <th>Goals</th>\n",
              "      <th>Assists</th>\n",
              "      <th>Yel</th>\n",
              "      <th>Red</th>\n",
              "      <th>SpG</th>\n",
              "      <th>PS</th>\n",
              "      <th>AerialsWon</th>\n",
              "      <th>MotM</th>\n",
              "      <th>Rating</th>\n",
              "      <th>nationality</th>\n",
              "    </tr>\n",
              "  </thead>\n",
              "  <tbody>\n",
              "    <tr>\n",
              "      <th>0</th>\n",
              "      <td>0</td>\n",
              "      <td>1</td>\n",
              "      <td>Hakim Ziyech</td>\n",
              "      <td>Ajax</td>\n",
              "      <td>25</td>\n",
              "      <td>34</td>\n",
              "      <td>3043</td>\n",
              "      <td>9</td>\n",
              "      <td>15</td>\n",
              "      <td>4</td>\n",
              "      <td>0</td>\n",
              "      <td>4.9</td>\n",
              "      <td>75.4</td>\n",
              "      <td>0.2</td>\n",
              "      <td>9</td>\n",
              "      <td>8.21</td>\n",
              "      <td>Morocco</td>\n",
              "    </tr>\n",
              "    <tr>\n",
              "      <th>1</th>\n",
              "      <td>2</td>\n",
              "      <td>2</td>\n",
              "      <td>Alireza Jahanbakhsh</td>\n",
              "      <td>AZ Alkmaar</td>\n",
              "      <td>24</td>\n",
              "      <td>33</td>\n",
              "      <td>2840</td>\n",
              "      <td>21</td>\n",
              "      <td>12</td>\n",
              "      <td>3</td>\n",
              "      <td>0</td>\n",
              "      <td>4.3</td>\n",
              "      <td>73.4</td>\n",
              "      <td>0.7</td>\n",
              "      <td>14</td>\n",
              "      <td>8.20</td>\n",
              "      <td>Iran</td>\n",
              "    </tr>\n",
              "    <tr>\n",
              "      <th>2</th>\n",
              "      <td>4</td>\n",
              "      <td>3</td>\n",
              "      <td>Hirving Lozano</td>\n",
              "      <td>PSV Eindhoven</td>\n",
              "      <td>22</td>\n",
              "      <td>29</td>\n",
              "      <td>2350</td>\n",
              "      <td>17</td>\n",
              "      <td>8</td>\n",
              "      <td>4</td>\n",
              "      <td>2</td>\n",
              "      <td>3.4</td>\n",
              "      <td>75.3</td>\n",
              "      <td>0.6</td>\n",
              "      <td>8</td>\n",
              "      <td>7.90</td>\n",
              "      <td>Mexico</td>\n",
              "    </tr>\n",
              "    <tr>\n",
              "      <th>3</th>\n",
              "      <td>6</td>\n",
              "      <td>11</td>\n",
              "      <td>Lasse Schone</td>\n",
              "      <td>Ajax</td>\n",
              "      <td>32</td>\n",
              "      <td>27(3)</td>\n",
              "      <td>2350</td>\n",
              "      <td>10</td>\n",
              "      <td>3</td>\n",
              "      <td>6</td>\n",
              "      <td>0</td>\n",
              "      <td>1.9</td>\n",
              "      <td>87.0</td>\n",
              "      <td>1.9</td>\n",
              "      <td>2</td>\n",
              "      <td>7.45</td>\n",
              "      <td>Denmark</td>\n",
              "    </tr>\n",
              "    <tr>\n",
              "      <th>4</th>\n",
              "      <td>10</td>\n",
              "      <td>25</td>\n",
              "      <td>Santiago Arias</td>\n",
              "      <td>PSV Eindhoven</td>\n",
              "      <td>26</td>\n",
              "      <td>30</td>\n",
              "      <td>2664</td>\n",
              "      <td>3</td>\n",
              "      <td>6</td>\n",
              "      <td>5</td>\n",
              "      <td>0</td>\n",
              "      <td>1.5</td>\n",
              "      <td>82.3</td>\n",
              "      <td>1</td>\n",
              "      <td>2</td>\n",
              "      <td>7.25</td>\n",
              "      <td>Colombia</td>\n",
              "    </tr>\n",
              "    <tr>\n",
              "      <th>...</th>\n",
              "      <td>...</td>\n",
              "      <td>...</td>\n",
              "      <td>...</td>\n",
              "      <td>...</td>\n",
              "      <td>...</td>\n",
              "      <td>...</td>\n",
              "      <td>...</td>\n",
              "      <td>...</td>\n",
              "      <td>...</td>\n",
              "      <td>...</td>\n",
              "      <td>...</td>\n",
              "      <td>...</td>\n",
              "      <td>...</td>\n",
              "      <td>...</td>\n",
              "      <td>...</td>\n",
              "      <td>...</td>\n",
              "      <td>...</td>\n",
              "    </tr>\n",
              "    <tr>\n",
              "      <th>598</th>\n",
              "      <td>1150</td>\n",
              "      <td>200</td>\n",
              "      <td>Giancarlo Gonzalez</td>\n",
              "      <td>Bologna</td>\n",
              "      <td>30</td>\n",
              "      <td>22</td>\n",
              "      <td>1858</td>\n",
              "      <td>0</td>\n",
              "      <td>0</td>\n",
              "      <td>4</td>\n",
              "      <td>2</td>\n",
              "      <td>-</td>\n",
              "      <td>80.6</td>\n",
              "      <td>2.4</td>\n",
              "      <td>0</td>\n",
              "      <td>6.63</td>\n",
              "      <td>Costa Rica</td>\n",
              "    </tr>\n",
              "    <tr>\n",
              "      <th>599</th>\n",
              "      <td>1152</td>\n",
              "      <td>217</td>\n",
              "      <td>Stephan Lichtsteiner</td>\n",
              "      <td>Juventus</td>\n",
              "      <td>34</td>\n",
              "      <td>21(6)</td>\n",
              "      <td>1715</td>\n",
              "      <td>0</td>\n",
              "      <td>2</td>\n",
              "      <td>6</td>\n",
              "      <td>0</td>\n",
              "      <td>0.1</td>\n",
              "      <td>82.2</td>\n",
              "      <td>0.9</td>\n",
              "      <td>0</td>\n",
              "      <td>6.59</td>\n",
              "      <td>Switzerland</td>\n",
              "    </tr>\n",
              "    <tr>\n",
              "      <th>600</th>\n",
              "      <td>1154</td>\n",
              "      <td>235</td>\n",
              "      <td>Dawid Kownacki</td>\n",
              "      <td>Sampdoria</td>\n",
              "      <td>21</td>\n",
              "      <td>6(16)</td>\n",
              "      <td>811</td>\n",
              "      <td>5</td>\n",
              "      <td>1</td>\n",
              "      <td>0</td>\n",
              "      <td>0</td>\n",
              "      <td>1</td>\n",
              "      <td>75.4</td>\n",
              "      <td>1.4</td>\n",
              "      <td>0</td>\n",
              "      <td>6.51</td>\n",
              "      <td>Poland</td>\n",
              "    </tr>\n",
              "    <tr>\n",
              "      <th>601</th>\n",
              "      <td>1156</td>\n",
              "      <td>265</td>\n",
              "      <td>Emil Hallfredsson</td>\n",
              "      <td>Udinese</td>\n",
              "      <td>33</td>\n",
              "      <td>8(11)</td>\n",
              "      <td>761</td>\n",
              "      <td>0</td>\n",
              "      <td>0</td>\n",
              "      <td>5</td>\n",
              "      <td>0</td>\n",
              "      <td>0.1</td>\n",
              "      <td>88.5</td>\n",
              "      <td>0.6</td>\n",
              "      <td>0</td>\n",
              "      <td>6.39</td>\n",
              "      <td>Iceland</td>\n",
              "    </tr>\n",
              "    <tr>\n",
              "      <th>602</th>\n",
              "      <td>1158</td>\n",
              "      <td>269</td>\n",
              "      <td>Marcus Rohden</td>\n",
              "      <td>Crotone</td>\n",
              "      <td>27</td>\n",
              "      <td>20(6)</td>\n",
              "      <td>1637</td>\n",
              "      <td>2</td>\n",
              "      <td>0</td>\n",
              "      <td>2</td>\n",
              "      <td>0</td>\n",
              "      <td>0.8</td>\n",
              "      <td>67.6</td>\n",
              "      <td>0.8</td>\n",
              "      <td>0</td>\n",
              "      <td>6.35</td>\n",
              "      <td>Sweden</td>\n",
              "    </tr>\n",
              "  </tbody>\n",
              "</table>\n",
              "<p>603 rows × 17 columns</p>\n",
              "</div>\n",
              "      <button class=\"colab-df-convert\" onclick=\"convertToInteractive('df-2bd74fc7-03e3-4003-9156-00345decb0ca')\"\n",
              "              title=\"Convert this dataframe to an interactive table.\"\n",
              "              style=\"display:none;\">\n",
              "        \n",
              "  <svg xmlns=\"http://www.w3.org/2000/svg\" height=\"24px\"viewBox=\"0 0 24 24\"\n",
              "       width=\"24px\">\n",
              "    <path d=\"M0 0h24v24H0V0z\" fill=\"none\"/>\n",
              "    <path d=\"M18.56 5.44l.94 2.06.94-2.06 2.06-.94-2.06-.94-.94-2.06-.94 2.06-2.06.94zm-11 1L8.5 8.5l.94-2.06 2.06-.94-2.06-.94L8.5 2.5l-.94 2.06-2.06.94zm10 10l.94 2.06.94-2.06 2.06-.94-2.06-.94-.94-2.06-.94 2.06-2.06.94z\"/><path d=\"M17.41 7.96l-1.37-1.37c-.4-.4-.92-.59-1.43-.59-.52 0-1.04.2-1.43.59L10.3 9.45l-7.72 7.72c-.78.78-.78 2.05 0 2.83L4 21.41c.39.39.9.59 1.41.59.51 0 1.02-.2 1.41-.59l7.78-7.78 2.81-2.81c.8-.78.8-2.07 0-2.86zM5.41 20L4 18.59l7.72-7.72 1.47 1.35L5.41 20z\"/>\n",
              "  </svg>\n",
              "      </button>\n",
              "      \n",
              "  <style>\n",
              "    .colab-df-container {\n",
              "      display:flex;\n",
              "      flex-wrap:wrap;\n",
              "      gap: 12px;\n",
              "    }\n",
              "\n",
              "    .colab-df-convert {\n",
              "      background-color: #E8F0FE;\n",
              "      border: none;\n",
              "      border-radius: 50%;\n",
              "      cursor: pointer;\n",
              "      display: none;\n",
              "      fill: #1967D2;\n",
              "      height: 32px;\n",
              "      padding: 0 0 0 0;\n",
              "      width: 32px;\n",
              "    }\n",
              "\n",
              "    .colab-df-convert:hover {\n",
              "      background-color: #E2EBFA;\n",
              "      box-shadow: 0px 1px 2px rgba(60, 64, 67, 0.3), 0px 1px 3px 1px rgba(60, 64, 67, 0.15);\n",
              "      fill: #174EA6;\n",
              "    }\n",
              "\n",
              "    [theme=dark] .colab-df-convert {\n",
              "      background-color: #3B4455;\n",
              "      fill: #D2E3FC;\n",
              "    }\n",
              "\n",
              "    [theme=dark] .colab-df-convert:hover {\n",
              "      background-color: #434B5C;\n",
              "      box-shadow: 0px 1px 3px 1px rgba(0, 0, 0, 0.15);\n",
              "      filter: drop-shadow(0px 1px 2px rgba(0, 0, 0, 0.3));\n",
              "      fill: #FFFFFF;\n",
              "    }\n",
              "  </style>\n",
              "\n",
              "      <script>\n",
              "        const buttonEl =\n",
              "          document.querySelector('#df-2bd74fc7-03e3-4003-9156-00345decb0ca button.colab-df-convert');\n",
              "        buttonEl.style.display =\n",
              "          google.colab.kernel.accessAllowed ? 'block' : 'none';\n",
              "\n",
              "        async function convertToInteractive(key) {\n",
              "          const element = document.querySelector('#df-2bd74fc7-03e3-4003-9156-00345decb0ca');\n",
              "          const dataTable =\n",
              "            await google.colab.kernel.invokeFunction('convertToInteractive',\n",
              "                                                     [key], {});\n",
              "          if (!dataTable) return;\n",
              "\n",
              "          const docLinkHtml = 'Like what you see? Visit the ' +\n",
              "            '<a target=\"_blank\" href=https://colab.research.google.com/notebooks/data_table.ipynb>data table notebook</a>'\n",
              "            + ' to learn more about interactive tables.';\n",
              "          element.innerHTML = '';\n",
              "          dataTable['output_type'] = 'display_data';\n",
              "          await google.colab.output.renderOutput(dataTable, element);\n",
              "          const docLink = document.createElement('div');\n",
              "          docLink.innerHTML = docLinkHtml;\n",
              "          element.appendChild(docLink);\n",
              "        }\n",
              "      </script>\n",
              "    </div>\n",
              "  </div>\n",
              "  "
            ]
          },
          "metadata": {},
          "execution_count": 14
        }
      ]
    },
    {
      "cell_type": "markdown",
      "source": [
        "b) Show a table with all the data about your favorite club or nationality. Include some description about an interesting fact in the data"
      ],
      "metadata": {
        "id": "99hffLXtS4YO"
      }
    },
    {
      "cell_type": "markdown",
      "source": [
        "Here I  selected Crotone as my favourite club, and showed it in table. "
      ],
      "metadata": {
        "id": "cOD1mpYyv322"
      }
    },
    {
      "cell_type": "code",
      "source": [
        "df_table = df[df['club'].str.contains('Crotone')]\n",
        "df_table"
      ],
      "metadata": {
        "colab": {
          "base_uri": "https://localhost:8080/",
          "height": 80
        },
        "id": "3OnZXCk6tKjH",
        "outputId": "97758ad6-b5e5-4e4d-9ebe-49f0488bdcf6"
      },
      "execution_count": null,
      "outputs": [
        {
          "output_type": "execute_result",
          "data": {
            "text/plain": [
              "     Unnamed: 0  Rank         player     club  age   Apps  Mins  Goals  \\\n",
              "602        1158   269  Marcus Rohden  Crotone   27  20(6)  1637      2   \n",
              "\n",
              "     Assists  Yel  Red  SpG    PS AerialsWon  MotM  Rating nationality  \n",
              "602        0    2    0  0.8  67.6        0.8     0    6.35      Sweden  "
            ],
            "text/html": [
              "\n",
              "  <div id=\"df-e14f4133-d4dd-4c36-b856-8ebb677db02b\">\n",
              "    <div class=\"colab-df-container\">\n",
              "      <div>\n",
              "<style scoped>\n",
              "    .dataframe tbody tr th:only-of-type {\n",
              "        vertical-align: middle;\n",
              "    }\n",
              "\n",
              "    .dataframe tbody tr th {\n",
              "        vertical-align: top;\n",
              "    }\n",
              "\n",
              "    .dataframe thead th {\n",
              "        text-align: right;\n",
              "    }\n",
              "</style>\n",
              "<table border=\"1\" class=\"dataframe\">\n",
              "  <thead>\n",
              "    <tr style=\"text-align: right;\">\n",
              "      <th></th>\n",
              "      <th>Unnamed: 0</th>\n",
              "      <th>Rank</th>\n",
              "      <th>player</th>\n",
              "      <th>club</th>\n",
              "      <th>age</th>\n",
              "      <th>Apps</th>\n",
              "      <th>Mins</th>\n",
              "      <th>Goals</th>\n",
              "      <th>Assists</th>\n",
              "      <th>Yel</th>\n",
              "      <th>Red</th>\n",
              "      <th>SpG</th>\n",
              "      <th>PS</th>\n",
              "      <th>AerialsWon</th>\n",
              "      <th>MotM</th>\n",
              "      <th>Rating</th>\n",
              "      <th>nationality</th>\n",
              "    </tr>\n",
              "  </thead>\n",
              "  <tbody>\n",
              "    <tr>\n",
              "      <th>602</th>\n",
              "      <td>1158</td>\n",
              "      <td>269</td>\n",
              "      <td>Marcus Rohden</td>\n",
              "      <td>Crotone</td>\n",
              "      <td>27</td>\n",
              "      <td>20(6)</td>\n",
              "      <td>1637</td>\n",
              "      <td>2</td>\n",
              "      <td>0</td>\n",
              "      <td>2</td>\n",
              "      <td>0</td>\n",
              "      <td>0.8</td>\n",
              "      <td>67.6</td>\n",
              "      <td>0.8</td>\n",
              "      <td>0</td>\n",
              "      <td>6.35</td>\n",
              "      <td>Sweden</td>\n",
              "    </tr>\n",
              "  </tbody>\n",
              "</table>\n",
              "</div>\n",
              "      <button class=\"colab-df-convert\" onclick=\"convertToInteractive('df-e14f4133-d4dd-4c36-b856-8ebb677db02b')\"\n",
              "              title=\"Convert this dataframe to an interactive table.\"\n",
              "              style=\"display:none;\">\n",
              "        \n",
              "  <svg xmlns=\"http://www.w3.org/2000/svg\" height=\"24px\"viewBox=\"0 0 24 24\"\n",
              "       width=\"24px\">\n",
              "    <path d=\"M0 0h24v24H0V0z\" fill=\"none\"/>\n",
              "    <path d=\"M18.56 5.44l.94 2.06.94-2.06 2.06-.94-2.06-.94-.94-2.06-.94 2.06-2.06.94zm-11 1L8.5 8.5l.94-2.06 2.06-.94-2.06-.94L8.5 2.5l-.94 2.06-2.06.94zm10 10l.94 2.06.94-2.06 2.06-.94-2.06-.94-.94-2.06-.94 2.06-2.06.94z\"/><path d=\"M17.41 7.96l-1.37-1.37c-.4-.4-.92-.59-1.43-.59-.52 0-1.04.2-1.43.59L10.3 9.45l-7.72 7.72c-.78.78-.78 2.05 0 2.83L4 21.41c.39.39.9.59 1.41.59.51 0 1.02-.2 1.41-.59l7.78-7.78 2.81-2.81c.8-.78.8-2.07 0-2.86zM5.41 20L4 18.59l7.72-7.72 1.47 1.35L5.41 20z\"/>\n",
              "  </svg>\n",
              "      </button>\n",
              "      \n",
              "  <style>\n",
              "    .colab-df-container {\n",
              "      display:flex;\n",
              "      flex-wrap:wrap;\n",
              "      gap: 12px;\n",
              "    }\n",
              "\n",
              "    .colab-df-convert {\n",
              "      background-color: #E8F0FE;\n",
              "      border: none;\n",
              "      border-radius: 50%;\n",
              "      cursor: pointer;\n",
              "      display: none;\n",
              "      fill: #1967D2;\n",
              "      height: 32px;\n",
              "      padding: 0 0 0 0;\n",
              "      width: 32px;\n",
              "    }\n",
              "\n",
              "    .colab-df-convert:hover {\n",
              "      background-color: #E2EBFA;\n",
              "      box-shadow: 0px 1px 2px rgba(60, 64, 67, 0.3), 0px 1px 3px 1px rgba(60, 64, 67, 0.15);\n",
              "      fill: #174EA6;\n",
              "    }\n",
              "\n",
              "    [theme=dark] .colab-df-convert {\n",
              "      background-color: #3B4455;\n",
              "      fill: #D2E3FC;\n",
              "    }\n",
              "\n",
              "    [theme=dark] .colab-df-convert:hover {\n",
              "      background-color: #434B5C;\n",
              "      box-shadow: 0px 1px 3px 1px rgba(0, 0, 0, 0.15);\n",
              "      filter: drop-shadow(0px 1px 2px rgba(0, 0, 0, 0.3));\n",
              "      fill: #FFFFFF;\n",
              "    }\n",
              "  </style>\n",
              "\n",
              "      <script>\n",
              "        const buttonEl =\n",
              "          document.querySelector('#df-e14f4133-d4dd-4c36-b856-8ebb677db02b button.colab-df-convert');\n",
              "        buttonEl.style.display =\n",
              "          google.colab.kernel.accessAllowed ? 'block' : 'none';\n",
              "\n",
              "        async function convertToInteractive(key) {\n",
              "          const element = document.querySelector('#df-e14f4133-d4dd-4c36-b856-8ebb677db02b');\n",
              "          const dataTable =\n",
              "            await google.colab.kernel.invokeFunction('convertToInteractive',\n",
              "                                                     [key], {});\n",
              "          if (!dataTable) return;\n",
              "\n",
              "          const docLinkHtml = 'Like what you see? Visit the ' +\n",
              "            '<a target=\"_blank\" href=https://colab.research.google.com/notebooks/data_table.ipynb>data table notebook</a>'\n",
              "            + ' to learn more about interactive tables.';\n",
              "          element.innerHTML = '';\n",
              "          dataTable['output_type'] = 'display_data';\n",
              "          await google.colab.output.renderOutput(dataTable, element);\n",
              "          const docLink = document.createElement('div');\n",
              "          docLink.innerHTML = docLinkHtml;\n",
              "          element.appendChild(docLink);\n",
              "        }\n",
              "      </script>\n",
              "    </div>\n",
              "  </div>\n",
              "  "
            ]
          },
          "metadata": {},
          "execution_count": 15
        }
      ]
    },
    {
      "cell_type": "markdown",
      "source": [
        "\n",
        "(c) (10 points) Create a histogram of the ‘Goals’.\n",
        "\n",
        "Here. I created histogram of goals by using plot.hist,  20 bins, and red color."
      ],
      "metadata": {
        "id": "2LB9Bpz2jgtn"
      }
    },
    {
      "cell_type": "code",
      "source": [
        "df.Goals.plot.hist(bins = 20, legend = True, title = \"Histogram of Goals\", color = \"red\" )\n",
        "plt.show()"
      ],
      "metadata": {
        "colab": {
          "base_uri": "https://localhost:8080/",
          "height": 281
        },
        "id": "h-Wrx2lFn7aX",
        "outputId": "e32dbdac-c69d-44b3-bda0-ffd66103e9a3"
      },
      "execution_count": null,
      "outputs": [
        {
          "output_type": "display_data",
          "data": {
            "text/plain": [
              "<Figure size 432x288 with 1 Axes>"
            ],
            "image/png": "[encoded data removed]"
          },
          "metadata": {
            "needs_background": "light"
          }
        }
      ]
    },
    {
      "cell_type": "markdown",
      "source": [
        "(d) (10 points) Create a histogram of the ‘Goals’ and ‘Assists’ on the same axis.\n",
        "\n",
        "Here I used sns.distplot to get the histogram of both Goals and Assists where the blue bar represents Goals, and the yellow bar represents assist."
      ],
      "metadata": {
        "id": "Q_vZWUyqqKDl"
      }
    },
    {
      "cell_type": "code",
      "source": [
        "sns.distplot(df['Goals'],  kde=False, label='goals')\n",
        "\n",
        "sns.distplot(df['Assists'],  kde=False,label='Assists')\n",
        "\n",
        "# Plot formatting\n",
        "plt.legend(prop={'size': 12})\n",
        "plt.title('Histogram of Goals and Assists')\n",
        "plt.xlabel('Goals as blue bar/Assists as yellow bar')\n",
        "plt.ylabel('Frequency')"
      ],
      "metadata": {
        "colab": {
          "base_uri": "https://localhost:8080/",
          "height": 366
        },
        "id": "4ABo4VBjqLvI",
        "outputId": "b5121c38-99f5-4d9f-f868-6b3697c33e92"
      },
      "execution_count": null,
      "outputs": [
        {
          "output_type": "stream",
          "name": "stderr",
          "text": [
            "/usr/local/lib/python3.7/dist-packages/seaborn/distributions.py:2619: FutureWarning: `distplot` is a deprecated function and will be removed in a future version. Please adapt your code to use either `displot` (a figure-level function with similar flexibility) or `histplot` (an axes-level function for histograms).\n",
            "  warnings.warn(msg, FutureWarning)\n"
          ]
        },
        {
          "output_type": "execute_result",
          "data": {
            "text/plain": [
              "Text(0, 0.5, 'Frequency')"
            ]
          },
          "metadata": {},
          "execution_count": 66
        },
        {
          "output_type": "display_data",
          "data": {
            "text/plain": [
              "<Figure size 432x288 with 1 Axes>"
            ],
            "image/png": "[encoded data removed]"
          },
          "metadata": {
            "needs_background": "light"
          }
        }
      ]
    },
    {
      "cell_type": "markdown",
      "source": [
        "(e) (10 points) Create a barchart for most goals scored by nationality.\n",
        "\n",
        "Here I used max to get the most goals and grouped it by nationality."
      ],
      "metadata": {
        "id": "JhZVsuWDDT9t"
      }
    },
    {
      "cell_type": "code",
      "source": [
        "ax = df.groupby('nationality').Goals.agg('max').plot.bar(color = \"blue\")\n",
        "ax.set(title = \"Most goals scored by nationality\")\n",
        "ax.set(xlabel = 'Nationality')\n",
        "ax.set(ylabel = 'Number of goals')\n",
        "plt.show()\n",
        "\n"
      ],
      "metadata": {
        "colab": {
          "base_uri": "https://localhost:8080/",
          "height": 344
        },
        "id": "yealSWDYDopU",
        "outputId": "7a0fb197-0482-4766-96be-50431855b5b5"
      },
      "execution_count": null,
      "outputs": [
        {
          "output_type": "display_data",
          "data": {
            "text/plain": [
              "<Figure size 432x288 with 1 Axes>"
            ],
            "image/png": "[encoded data removed]"
          },
          "metadata": {
            "needs_background": "light"
          }
        }
      ]
    },
    {
      "cell_type": "markdown",
      "source": [
        "(f) (10 points) Create a boxplot of ‘Yel’ (yellow cards) by nationality.\n",
        "\n",
        "Here the boxplot is grouped by nationality and Yel.plot.box has been used to create the  boxplot of yellow card."
      ],
      "metadata": {
        "id": "AYjD5FegEOi-"
      }
    },
    {
      "cell_type": "code",
      "source": [
        "df.groupby('nationality').Yel.plot.box(color = \"green\", title = \"Boxplot\")\n",
        "plt.show()"
      ],
      "metadata": {
        "colab": {
          "base_uri": "https://localhost:8080/",
          "height": 281
        },
        "id": "1qcK7t8qFKq_",
        "outputId": "b1867654-64a5-4753-d3e7-03d9685aac72"
      },
      "execution_count": null,
      "outputs": [
        {
          "output_type": "display_data",
          "data": {
            "text/plain": [
              "<Figure size 432x288 with 1 Axes>"
            ],
            "image/png": "[encoded data removed]"
          },
          "metadata": {
            "needs_background": "light"
          }
        }
      ]
    },
    {
      "cell_type": "markdown",
      "source": [
        "(g) (10 points) Create ‘Goals’ and ‘Assists’ as scatter. Signify your favorite club or nationality in some way on the scatterplot. You may need to add a new column to the dataset to do so.\n",
        "\n",
        "I used sns.scatterplot to create Goals and Assists scatter. I couldn't find the right way to signify my favourite club or nationality so I just mentioned all the nationality provided in the dataset."
      ],
      "metadata": {
        "id": "SaZy978lF7zZ"
      }
    },
    {
      "cell_type": "code",
      "source": [
        "ax = sns.scatterplot(data = df, x = 'Goals', y = 'Assists', hue = 'nationality')\n",
        "ax.set(title = \"Scatter\")\n",
        "\n",
        "plt.show()\n"
      ],
      "metadata": {
        "colab": {
          "base_uri": "https://localhost:8080/",
          "height": 505
        },
        "id": "1gh1YIA6F8dH",
        "outputId": "bd7e067b-5d21-4c72-d5e0-e51f94941379"
      },
      "execution_count": null,
      "outputs": [
        {
          "output_type": "display_data",
          "data": {
            "text/plain": [
              "<Figure size 432x288 with 1 Axes>"
            ],
            "image/png": "[encoded data removed]"
          },
          "metadata": {
            "needs_background": "light"
          }
        }
      ]
    },
    {
      "cell_type": "markdown",
      "source": [
        "\n",
        "\n",
        "\n",
        "Now, I added new column that contains both gials and assist. "
      ],
      "metadata": {
        "id": "rzjKvEj7wqnj"
      }
    },
    {
      "cell_type": "code",
      "source": [
        "def CrotoneGoals(row):\n",
        "  return row.Goals\n",
        "\n",
        "def CrotoneAssists(row):\n",
        "  return row.Assists"
      ],
      "metadata": {
        "id": "hpa48QriuYcD"
      },
      "execution_count": null,
      "outputs": []
    },
    {
      "cell_type": "code",
      "source": [
        "df2 = df[df['club'].str.contains('Crotone')]\n",
        "\n",
        "df['C_goals'] = df2.apply(lambda row: CrotoneGoals(row), axis=1)\n",
        "\n",
        "df['C_assists'] = df2.apply(lambda row: CrotoneAssists(row), axis=1)"
      ],
      "metadata": {
        "id": "3WDRQlhzun1U"
      },
      "execution_count": null,
      "outputs": []
    },
    {
      "cell_type": "code",
      "source": [
        "df['C_goals'] = df['C_goals'].fillna(0).astype(int)\n",
        "df['C_goals'] = df['C_goals'].astype('int')\n",
        "df['C_assists'] = df['C_assists'].fillna(0).astype(int)\n",
        "df['C_assists'] = df['C_assists'].astype('int')"
      ],
      "metadata": {
        "id": "MAFUvHxgu8bQ"
      },
      "execution_count": null,
      "outputs": []
    },
    {
      "cell_type": "code",
      "source": [
        "df[df['club'].str.contains('Crotone')]"
      ],
      "metadata": {
        "colab": {
          "base_uri": "https://localhost:8080/",
          "height": 207
        },
        "id": "oL6-HRtIvGxg",
        "outputId": "06e5628e-f10e-4cdc-afac-169a9443c122"
      },
      "execution_count": null,
      "outputs": [
        {
          "output_type": "execute_result",
          "data": {
            "text/plain": [
              "     Unnamed: 0  Rank         player     club  age   Apps  Mins  Goals  \\\n",
              "602        1158   269  Marcus Rohden  Crotone   27  20(6)  1637      2   \n",
              "\n",
              "     Assists  Yel  ...  SpG    PS  AerialsWon MotM  Rating  nationality  \\\n",
              "602        0    2  ...  0.8  67.6         0.8    0    6.35       Sweden   \n",
              "\n",
              "    MUFC_goals  MUFC_assists  C_goals  C_assists  \n",
              "602        2.0           0.0        2          0  \n",
              "\n",
              "[1 rows x 21 columns]"
            ],
            "text/html": [
              "\n",
              "  <div id=\"df-6b96eaa9-19c3-4825-99e3-e2060c9ac65e\">\n",
              "    <div class=\"colab-df-container\">\n",
              "      <div>\n",
              "<style scoped>\n",
              "    .dataframe tbody tr th:only-of-type {\n",
              "        vertical-align: middle;\n",
              "    }\n",
              "\n",
              "    .dataframe tbody tr th {\n",
              "        vertical-align: top;\n",
              "    }\n",
              "\n",
              "    .dataframe thead th {\n",
              "        text-align: right;\n",
              "    }\n",
              "</style>\n",
              "<table border=\"1\" class=\"dataframe\">\n",
              "  <thead>\n",
              "    <tr style=\"text-align: right;\">\n",
              "      <th></th>\n",
              "      <th>Unnamed: 0</th>\n",
              "      <th>Rank</th>\n",
              "      <th>player</th>\n",
              "      <th>club</th>\n",
              "      <th>age</th>\n",
              "      <th>Apps</th>\n",
              "      <th>Mins</th>\n",
              "      <th>Goals</th>\n",
              "      <th>Assists</th>\n",
              "      <th>Yel</th>\n",
              "      <th>...</th>\n",
              "      <th>SpG</th>\n",
              "      <th>PS</th>\n",
              "      <th>AerialsWon</th>\n",
              "      <th>MotM</th>\n",
              "      <th>Rating</th>\n",
              "      <th>nationality</th>\n",
              "      <th>MUFC_goals</th>\n",
              "      <th>MUFC_assists</th>\n",
              "      <th>C_goals</th>\n",
              "      <th>C_assists</th>\n",
              "    </tr>\n",
              "  </thead>\n",
              "  <tbody>\n",
              "    <tr>\n",
              "      <th>602</th>\n",
              "      <td>1158</td>\n",
              "      <td>269</td>\n",
              "      <td>Marcus Rohden</td>\n",
              "      <td>Crotone</td>\n",
              "      <td>27</td>\n",
              "      <td>20(6)</td>\n",
              "      <td>1637</td>\n",
              "      <td>2</td>\n",
              "      <td>0</td>\n",
              "      <td>2</td>\n",
              "      <td>...</td>\n",
              "      <td>0.8</td>\n",
              "      <td>67.6</td>\n",
              "      <td>0.8</td>\n",
              "      <td>0</td>\n",
              "      <td>6.35</td>\n",
              "      <td>Sweden</td>\n",
              "      <td>2.0</td>\n",
              "      <td>0.0</td>\n",
              "      <td>2</td>\n",
              "      <td>0</td>\n",
              "    </tr>\n",
              "  </tbody>\n",
              "</table>\n",
              "<p>1 rows × 21 columns</p>\n",
              "</div>\n",
              "      <button class=\"colab-df-convert\" onclick=\"convertToInteractive('df-6b96eaa9-19c3-4825-99e3-e2060c9ac65e')\"\n",
              "              title=\"Convert this dataframe to an interactive table.\"\n",
              "              style=\"display:none;\">\n",
              "        \n",
              "  <svg xmlns=\"http://www.w3.org/2000/svg\" height=\"24px\"viewBox=\"0 0 24 24\"\n",
              "       width=\"24px\">\n",
              "    <path d=\"M0 0h24v24H0V0z\" fill=\"none\"/>\n",
              "    <path d=\"M18.56 5.44l.94 2.06.94-2.06 2.06-.94-2.06-.94-.94-2.06-.94 2.06-2.06.94zm-11 1L8.5 8.5l.94-2.06 2.06-.94-2.06-.94L8.5 2.5l-.94 2.06-2.06.94zm10 10l.94 2.06.94-2.06 2.06-.94-2.06-.94-.94-2.06-.94 2.06-2.06.94z\"/><path d=\"M17.41 7.96l-1.37-1.37c-.4-.4-.92-.59-1.43-.59-.52 0-1.04.2-1.43.59L10.3 9.45l-7.72 7.72c-.78.78-.78 2.05 0 2.83L4 21.41c.39.39.9.59 1.41.59.51 0 1.02-.2 1.41-.59l7.78-7.78 2.81-2.81c.8-.78.8-2.07 0-2.86zM5.41 20L4 18.59l7.72-7.72 1.47 1.35L5.41 20z\"/>\n",
              "  </svg>\n",
              "      </button>\n",
              "      \n",
              "  <style>\n",
              "    .colab-df-container {\n",
              "      display:flex;\n",
              "      flex-wrap:wrap;\n",
              "      gap: 12px;\n",
              "    }\n",
              "\n",
              "    .colab-df-convert {\n",
              "      background-color: #E8F0FE;\n",
              "      border: none;\n",
              "      border-radius: 50%;\n",
              "      cursor: pointer;\n",
              "      display: none;\n",
              "      fill: #1967D2;\n",
              "      height: 32px;\n",
              "      padding: 0 0 0 0;\n",
              "      width: 32px;\n",
              "    }\n",
              "\n",
              "    .colab-df-convert:hover {\n",
              "      background-color: #E2EBFA;\n",
              "      box-shadow: 0px 1px 2px rgba(60, 64, 67, 0.3), 0px 1px 3px 1px rgba(60, 64, 67, 0.15);\n",
              "      fill: #174EA6;\n",
              "    }\n",
              "\n",
              "    [theme=dark] .colab-df-convert {\n",
              "      background-color: #3B4455;\n",
              "      fill: #D2E3FC;\n",
              "    }\n",
              "\n",
              "    [theme=dark] .colab-df-convert:hover {\n",
              "      background-color: #434B5C;\n",
              "      box-shadow: 0px 1px 3px 1px rgba(0, 0, 0, 0.15);\n",
              "      filter: drop-shadow(0px 1px 2px rgba(0, 0, 0, 0.3));\n",
              "      fill: #FFFFFF;\n",
              "    }\n",
              "  </style>\n",
              "\n",
              "      <script>\n",
              "        const buttonEl =\n",
              "          document.querySelector('#df-6b96eaa9-19c3-4825-99e3-e2060c9ac65e button.colab-df-convert');\n",
              "        buttonEl.style.display =\n",
              "          google.colab.kernel.accessAllowed ? 'block' : 'none';\n",
              "\n",
              "        async function convertToInteractive(key) {\n",
              "          const element = document.querySelector('#df-6b96eaa9-19c3-4825-99e3-e2060c9ac65e');\n",
              "          const dataTable =\n",
              "            await google.colab.kernel.invokeFunction('convertToInteractive',\n",
              "                                                     [key], {});\n",
              "          if (!dataTable) return;\n",
              "\n",
              "          const docLinkHtml = 'Like what you see? Visit the ' +\n",
              "            '<a target=\"_blank\" href=https://colab.research.google.com/notebooks/data_table.ipynb>data table notebook</a>'\n",
              "            + ' to learn more about interactive tables.';\n",
              "          element.innerHTML = '';\n",
              "          dataTable['output_type'] = 'display_data';\n",
              "          await google.colab.output.renderOutput(dataTable, element);\n",
              "          const docLink = document.createElement('div');\n",
              "          docLink.innerHTML = docLinkHtml;\n",
              "          element.appendChild(docLink);\n",
              "        }\n",
              "      </script>\n",
              "    </div>\n",
              "  </div>\n",
              "  "
            ]
          },
          "metadata": {},
          "execution_count": 12
        }
      ]
    },
    {
      "cell_type": "code",
      "source": [
        "sns.relplot(data = df, x = 'Goals', y = 'Assists', color = 'blue', style = 'C_goals', size = 'C_assists')\n",
        "\n",
        "plt.title('A scatterplot of goals vs assist')"
      ],
      "metadata": {
        "colab": {
          "base_uri": "https://localhost:8080/",
          "height": 402
        },
        "id": "rIM48dyivOnG",
        "outputId": "15b4ce2a-d831-49e2-9c1f-c69fd2298840"
      },
      "execution_count": null,
      "outputs": [
        {
          "output_type": "execute_result",
          "data": {
            "text/plain": [
              "Text(0.5, 1.0, 'A scatterplot of goals vs assist')"
            ]
          },
          "metadata": {},
          "execution_count": 13
        },
        {
          "output_type": "display_data",
          "data": {
            "text/plain": [
              "<Figure size 421.75x360 with 1 Axes>"
            ],
            "image/png": "[encoded data removed]"
          },
          "metadata": {
            "needs_background": "light"
          }
        }
      ]
    },
    {
      "cell_type": "markdown",
      "source": [
        "(h) (10 points) Create stacked barplot of goals and assists of French National Team. (they won this tourney!) Be sure to comment on why it is appropriate to stack goals and assists.\n",
        "\n",
        "Here, I used stack=true to show the stack bar. "
      ],
      "metadata": {
        "id": "14TNfoNhMQUo"
      }
    },
    {
      "cell_type": "code",
      "source": [
        "df.plot.bar(x='Goals', stacked=True, title='The number of Goals')\n"
      ],
      "metadata": {
        "colab": {
          "base_uri": "https://localhost:8080/",
          "height": 315
        },
        "id": "I_AQky8oT5eS",
        "outputId": "619e72dd-0f04-4f51-9eeb-cd7ea14b4885"
      },
      "execution_count": null,
      "outputs": [
        {
          "output_type": "execute_result",
          "data": {
            "text/plain": [
              "<matplotlib.axes._subplots.AxesSubplot at 0x7fb10ec1d550>"
            ]
          },
          "metadata": {},
          "execution_count": 68
        },
        {
          "output_type": "display_data",
          "data": {
            "text/plain": [
              "<Figure size 432x288 with 1 Axes>"
            ],
            "image/png": "[encoded data removed]"
          },
          "metadata": {
            "needs_background": "light"
          }
        }
      ]
    },
    {
      "cell_type": "code",
      "source": [
        "df.plot.bar(x='Assists', stacked=True, title='Assists')"
      ],
      "metadata": {
        "colab": {
          "base_uri": "https://localhost:8080/",
          "height": 315
        },
        "id": "qp2AcCs2mR_p",
        "outputId": "e04b25d5-c303-41ce-9d21-3703c43d60b0"
      },
      "execution_count": null,
      "outputs": [
        {
          "output_type": "execute_result",
          "data": {
            "text/plain": [
              "<matplotlib.axes._subplots.AxesSubplot at 0x7fb10d843610>"
            ]
          },
          "metadata": {},
          "execution_count": 69
        },
        {
          "output_type": "display_data",
          "data": {
            "text/plain": [
              "<Figure size 432x288 with 1 Axes>"
            ],
            "image/png": "[encoded data removed]"
          },
          "metadata": {
            "needs_background": "light"
          }
        }
      ]
    },
    {
      "cell_type": "markdown",
      "source": [
        "(i) (10 points) Create a correlation heatmap of the entire dataset\n",
        "\n",
        "To create a correlation heatmap firstly, I entered dataframe correlation then used sns.heatmap to get heatmap of the entire dataset."
      ],
      "metadata": {
        "id": "LDnkMTG4PET-"
      }
    },
    {
      "cell_type": "code",
      "source": [
        "df.corr()"
      ],
      "metadata": {
        "colab": {
          "base_uri": "https://localhost:8080/",
          "height": 390
        },
        "id": "56AyzvwaMPga",
        "outputId": "1db123ab-b834-4434-b235-c726a70f8fcc"
      },
      "execution_count": null,
      "outputs": [
        {
          "output_type": "execute_result",
          "data": {
            "text/plain": [
              "            Unnamed: 0      Rank       age      Mins     Goals   Assists  \\\n",
              "Unnamed: 0    1.000000 -0.035885 -0.029711  0.089415 -0.014413 -0.014623   \n",
              "Rank         -0.035885  1.000000 -0.009795 -0.448996 -0.368658 -0.415454   \n",
              "age          -0.029711 -0.009795  1.000000  0.032110 -0.048792 -0.107610   \n",
              "Mins          0.089415 -0.448996  0.032110  1.000000  0.324553  0.392787   \n",
              "Goals        -0.014413 -0.368658 -0.048792  0.324553  1.000000  0.558772   \n",
              "Assists      -0.014623 -0.415454 -0.107610  0.392787  0.558772  1.000000   \n",
              "Yel           0.002472 -0.305560  0.034491  0.566826  0.192640  0.239014   \n",
              "Red           0.055852 -0.060812  0.021850  0.162371  0.033495  0.077767   \n",
              "PS            0.017547 -0.184426 -0.074136 -0.147275 -0.061200  0.067516   \n",
              "MotM         -0.050380 -0.402011 -0.028829  0.379439  0.719848  0.585102   \n",
              "Rating       -0.113085 -0.742297 -0.004873  0.157395  0.502048  0.490883   \n",
              "\n",
              "                 Yel       Red        PS      MotM    Rating  \n",
              "Unnamed: 0  0.002472  0.055852  0.017547 -0.050380 -0.113085  \n",
              "Rank       -0.305560 -0.060812 -0.184426 -0.402011 -0.742297  \n",
              "age         0.034491  0.021850 -0.074136 -0.028829 -0.004873  \n",
              "Mins        0.566826  0.162371 -0.147275  0.379439  0.157395  \n",
              "Goals       0.192640  0.033495 -0.061200  0.719848  0.502048  \n",
              "Assists     0.239014  0.077767  0.067516  0.585102  0.490883  \n",
              "Yel         1.000000  0.158042  0.078872  0.228264  0.102395  \n",
              "Red         0.158042  1.000000  0.034873  0.065881  0.009251  \n",
              "PS          0.078872  0.034873  1.000000 -0.045479  0.164801  \n",
              "MotM        0.228264  0.065881 -0.045479  1.000000  0.603158  \n",
              "Rating      0.102395  0.009251  0.164801  0.603158  1.000000  "
            ],
            "text/html": [
              "\n",
              "  <div id=\"df-4086f1ca-3805-48da-8f59-d94e2a75b2a5\">\n",
              "    <div class=\"colab-df-container\">\n",
              "      <div>\n",
              "<style scoped>\n",
              "    .dataframe tbody tr th:only-of-type {\n",
              "        vertical-align: middle;\n",
              "    }\n",
              "\n",
              "    .dataframe tbody tr th {\n",
              "        vertical-align: top;\n",
              "    }\n",
              "\n",
              "    .dataframe thead th {\n",
              "        text-align: right;\n",
              "    }\n",
              "</style>\n",
              "<table border=\"1\" class=\"dataframe\">\n",
              "  <thead>\n",
              "    <tr style=\"text-align: right;\">\n",
              "      <th></th>\n",
              "      <th>Unnamed: 0</th>\n",
              "      <th>Rank</th>\n",
              "      <th>age</th>\n",
              "      <th>Mins</th>\n",
              "      <th>Goals</th>\n",
              "      <th>Assists</th>\n",
              "      <th>Yel</th>\n",
              "      <th>Red</th>\n",
              "      <th>PS</th>\n",
              "      <th>MotM</th>\n",
              "      <th>Rating</th>\n",
              "    </tr>\n",
              "  </thead>\n",
              "  <tbody>\n",
              "    <tr>\n",
              "      <th>Unnamed: 0</th>\n",
              "      <td>1.000000</td>\n",
              "      <td>-0.035885</td>\n",
              "      <td>-0.029711</td>\n",
              "      <td>0.089415</td>\n",
              "      <td>-0.014413</td>\n",
              "      <td>-0.014623</td>\n",
              "      <td>0.002472</td>\n",
              "      <td>0.055852</td>\n",
              "      <td>0.017547</td>\n",
              "      <td>-0.050380</td>\n",
              "      <td>-0.113085</td>\n",
              "    </tr>\n",
              "    <tr>\n",
              "      <th>Rank</th>\n",
              "      <td>-0.035885</td>\n",
              "      <td>1.000000</td>\n",
              "      <td>-0.009795</td>\n",
              "      <td>-0.448996</td>\n",
              "      <td>-0.368658</td>\n",
              "      <td>-0.415454</td>\n",
              "      <td>-0.305560</td>\n",
              "      <td>-0.060812</td>\n",
              "      <td>-0.184426</td>\n",
              "      <td>-0.402011</td>\n",
              "      <td>-0.742297</td>\n",
              "    </tr>\n",
              "    <tr>\n",
              "      <th>age</th>\n",
              "      <td>-0.029711</td>\n",
              "      <td>-0.009795</td>\n",
              "      <td>1.000000</td>\n",
              "      <td>0.032110</td>\n",
              "      <td>-0.048792</td>\n",
              "      <td>-0.107610</td>\n",
              "      <td>0.034491</td>\n",
              "      <td>0.021850</td>\n",
              "      <td>-0.074136</td>\n",
              "      <td>-0.028829</td>\n",
              "      <td>-0.004873</td>\n",
              "    </tr>\n",
              "    <tr>\n",
              "      <th>Mins</th>\n",
              "      <td>0.089415</td>\n",
              "      <td>-0.448996</td>\n",
              "      <td>0.032110</td>\n",
              "      <td>1.000000</td>\n",
              "      <td>0.324553</td>\n",
              "      <td>0.392787</td>\n",
              "      <td>0.566826</td>\n",
              "      <td>0.162371</td>\n",
              "      <td>-0.147275</td>\n",
              "      <td>0.379439</td>\n",
              "      <td>0.157395</td>\n",
              "    </tr>\n",
              "    <tr>\n",
              "      <th>Goals</th>\n",
              "      <td>-0.014413</td>\n",
              "      <td>-0.368658</td>\n",
              "      <td>-0.048792</td>\n",
              "      <td>0.324553</td>\n",
              "      <td>1.000000</td>\n",
              "      <td>0.558772</td>\n",
              "      <td>0.192640</td>\n",
              "      <td>0.033495</td>\n",
              "      <td>-0.061200</td>\n",
              "      <td>0.719848</td>\n",
              "      <td>0.502048</td>\n",
              "    </tr>\n",
              "    <tr>\n",
              "      <th>Assists</th>\n",
              "      <td>-0.014623</td>\n",
              "      <td>-0.415454</td>\n",
              "      <td>-0.107610</td>\n",
              "      <td>0.392787</td>\n",
              "      <td>0.558772</td>\n",
              "      <td>1.000000</td>\n",
              "      <td>0.239014</td>\n",
              "      <td>0.077767</td>\n",
              "      <td>0.067516</td>\n",
              "      <td>0.585102</td>\n",
              "      <td>0.490883</td>\n",
              "    </tr>\n",
              "    <tr>\n",
              "      <th>Yel</th>\n",
              "      <td>0.002472</td>\n",
              "      <td>-0.305560</td>\n",
              "      <td>0.034491</td>\n",
              "      <td>0.566826</td>\n",
              "      <td>0.192640</td>\n",
              "      <td>0.239014</td>\n",
              "      <td>1.000000</td>\n",
              "      <td>0.158042</td>\n",
              "      <td>0.078872</td>\n",
              "      <td>0.228264</td>\n",
              "      <td>0.102395</td>\n",
              "    </tr>\n",
              "    <tr>\n",
              "      <th>Red</th>\n",
              "      <td>0.055852</td>\n",
              "      <td>-0.060812</td>\n",
              "      <td>0.021850</td>\n",
              "      <td>0.162371</td>\n",
              "      <td>0.033495</td>\n",
              "      <td>0.077767</td>\n",
              "      <td>0.158042</td>\n",
              "      <td>1.000000</td>\n",
              "      <td>0.034873</td>\n",
              "      <td>0.065881</td>\n",
              "      <td>0.009251</td>\n",
              "    </tr>\n",
              "    <tr>\n",
              "      <th>PS</th>\n",
              "      <td>0.017547</td>\n",
              "      <td>-0.184426</td>\n",
              "      <td>-0.074136</td>\n",
              "      <td>-0.147275</td>\n",
              "      <td>-0.061200</td>\n",
              "      <td>0.067516</td>\n",
              "      <td>0.078872</td>\n",
              "      <td>0.034873</td>\n",
              "      <td>1.000000</td>\n",
              "      <td>-0.045479</td>\n",
              "      <td>0.164801</td>\n",
              "    </tr>\n",
              "    <tr>\n",
              "      <th>MotM</th>\n",
              "      <td>-0.050380</td>\n",
              "      <td>-0.402011</td>\n",
              "      <td>-0.028829</td>\n",
              "      <td>0.379439</td>\n",
              "      <td>0.719848</td>\n",
              "      <td>0.585102</td>\n",
              "      <td>0.228264</td>\n",
              "      <td>0.065881</td>\n",
              "      <td>-0.045479</td>\n",
              "      <td>1.000000</td>\n",
              "      <td>0.603158</td>\n",
              "    </tr>\n",
              "    <tr>\n",
              "      <th>Rating</th>\n",
              "      <td>-0.113085</td>\n",
              "      <td>-0.742297</td>\n",
              "      <td>-0.004873</td>\n",
              "      <td>0.157395</td>\n",
              "      <td>0.502048</td>\n",
              "      <td>0.490883</td>\n",
              "      <td>0.102395</td>\n",
              "      <td>0.009251</td>\n",
              "      <td>0.164801</td>\n",
              "      <td>0.603158</td>\n",
              "      <td>1.000000</td>\n",
              "    </tr>\n",
              "  </tbody>\n",
              "</table>\n",
              "</div>\n",
              "      <button class=\"colab-df-convert\" onclick=\"convertToInteractive('df-4086f1ca-3805-48da-8f59-d94e2a75b2a5')\"\n",
              "              title=\"Convert this dataframe to an interactive table.\"\n",
              "              style=\"display:none;\">\n",
              "        \n",
              "  <svg xmlns=\"http://www.w3.org/2000/svg\" height=\"24px\"viewBox=\"0 0 24 24\"\n",
              "       width=\"24px\">\n",
              "    <path d=\"M0 0h24v24H0V0z\" fill=\"none\"/>\n",
              "    <path d=\"M18.56 5.44l.94 2.06.94-2.06 2.06-.94-2.06-.94-.94-2.06-.94 2.06-2.06.94zm-11 1L8.5 8.5l.94-2.06 2.06-.94-2.06-.94L8.5 2.5l-.94 2.06-2.06.94zm10 10l.94 2.06.94-2.06 2.06-.94-2.06-.94-.94-2.06-.94 2.06-2.06.94z\"/><path d=\"M17.41 7.96l-1.37-1.37c-.4-.4-.92-.59-1.43-.59-.52 0-1.04.2-1.43.59L10.3 9.45l-7.72 7.72c-.78.78-.78 2.05 0 2.83L4 21.41c.39.39.9.59 1.41.59.51 0 1.02-.2 1.41-.59l7.78-7.78 2.81-2.81c.8-.78.8-2.07 0-2.86zM5.41 20L4 18.59l7.72-7.72 1.47 1.35L5.41 20z\"/>\n",
              "  </svg>\n",
              "      </button>\n",
              "      \n",
              "  <style>\n",
              "    .colab-df-container {\n",
              "      display:flex;\n",
              "      flex-wrap:wrap;\n",
              "      gap: 12px;\n",
              "    }\n",
              "\n",
              "    .colab-df-convert {\n",
              "      background-color: #E8F0FE;\n",
              "      border: none;\n",
              "      border-radius: 50%;\n",
              "      cursor: pointer;\n",
              "      display: none;\n",
              "      fill: #1967D2;\n",
              "      height: 32px;\n",
              "      padding: 0 0 0 0;\n",
              "      width: 32px;\n",
              "    }\n",
              "\n",
              "    .colab-df-convert:hover {\n",
              "      background-color: #E2EBFA;\n",
              "      box-shadow: 0px 1px 2px rgba(60, 64, 67, 0.3), 0px 1px 3px 1px rgba(60, 64, 67, 0.15);\n",
              "      fill: #174EA6;\n",
              "    }\n",
              "\n",
              "    [theme=dark] .colab-df-convert {\n",
              "      background-color: #3B4455;\n",
              "      fill: #D2E3FC;\n",
              "    }\n",
              "\n",
              "    [theme=dark] .colab-df-convert:hover {\n",
              "      background-color: #434B5C;\n",
              "      box-shadow: 0px 1px 3px 1px rgba(0, 0, 0, 0.15);\n",
              "      filter: drop-shadow(0px 1px 2px rgba(0, 0, 0, 0.3));\n",
              "      fill: #FFFFFF;\n",
              "    }\n",
              "  </style>\n",
              "\n",
              "      <script>\n",
              "        const buttonEl =\n",
              "          document.querySelector('#df-4086f1ca-3805-48da-8f59-d94e2a75b2a5 button.colab-df-convert');\n",
              "        buttonEl.style.display =\n",
              "          google.colab.kernel.accessAllowed ? 'block' : 'none';\n",
              "\n",
              "        async function convertToInteractive(key) {\n",
              "          const element = document.querySelector('#df-4086f1ca-3805-48da-8f59-d94e2a75b2a5');\n",
              "          const dataTable =\n",
              "            await google.colab.kernel.invokeFunction('convertToInteractive',\n",
              "                                                     [key], {});\n",
              "          if (!dataTable) return;\n",
              "\n",
              "          const docLinkHtml = 'Like what you see? Visit the ' +\n",
              "            '<a target=\"_blank\" href=https://colab.research.google.com/notebooks/data_table.ipynb>data table notebook</a>'\n",
              "            + ' to learn more about interactive tables.';\n",
              "          element.innerHTML = '';\n",
              "          dataTable['output_type'] = 'display_data';\n",
              "          await google.colab.output.renderOutput(dataTable, element);\n",
              "          const docLink = document.createElement('div');\n",
              "          docLink.innerHTML = docLinkHtml;\n",
              "          element.appendChild(docLink);\n",
              "        }\n",
              "      </script>\n",
              "    </div>\n",
              "  </div>\n",
              "  "
            ]
          },
          "metadata": {},
          "execution_count": 52
        }
      ]
    },
    {
      "cell_type": "code",
      "source": [
        "ax = sns.heatmap(df.corr(),vmin = -1)\n",
        "ax.set(title = 'Heatmap')\n",
        "\n",
        "plt.show()"
      ],
      "metadata": {
        "colab": {
          "base_uri": "https://localhost:8080/",
          "height": 332
        },
        "id": "TU5EWVoEPKmN",
        "outputId": "31792e60-c093-4928-cab5-acfb7762db28"
      },
      "execution_count": null,
      "outputs": [
        {
          "output_type": "display_data",
          "data": {
            "text/plain": [
              "<Figure size 432x288 with 2 Axes>"
            ],
            "image/png": "[encoded data removed]"
          },
          "metadata": {
            "needs_background": "light"
          }
        }
      ]
    },
    {
      "cell_type": "markdown",
      "source": [
        "\n",
        "\n",
        "2. (10 points) Questions about the exam\n",
        "\n",
        "(a) Approximately how long did you work on this exam?\n",
        "\n",
        "-> It took me around 4 hours to complete this exam.\n",
        "\n",
        "\n",
        "\n",
        "(b) Which was the hardest and easiest topic from this section?\n",
        "\n",
        "-> The hardest topic here was to create the scatterplot with favourite club or nationality. The easiest topic was creating the histogram.\n",
        "\n",
        "\n",
        "\n",
        "\n",
        "(c) Which method of visualization are you still unclear what it might show?\n",
        "\n",
        "-> I am still unclear about the scatterplot question where I need to add favourite club or nationality as well. "
      ],
      "metadata": {
        "id": "MTPThXVVPcQd"
      }
    },
    {
      "cell_type": "markdown",
      "source": [
        "Reference:\n",
        "\n",
        "https://github.com/nurfnick/Data_Viz/\n",
        "\n",
        "https://github.com/subshr4\n",
        "\n",
        "https://github.com/nurfnick/Data_Viz/blob/main/30_Visualize_Conclusion.ipynb"
      ],
      "metadata": {
        "id": "TqPPtnvTykRP"
      }
    }
  ]
}