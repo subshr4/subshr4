{
  "nbformat": 4,
  "nbformat_minor": 0,
  "metadata": {
    "colab": {
      "name": "quiz8.ipynb",
      "provenance": [],
      "authorship_tag": "ABX9TyOlJh/e3bli5+ophXXiqBwk",
      "include_colab_link": true
    },
    "kernelspec": {
      "name": "python3",
      "display_name": "Python 3"
    },
    "language_info": {
      "name": "python"
    }
  },
  "cells": [
    {
      "cell_type": "markdown",
      "metadata": {
        "id": "view-in-github",
        "colab_type": "text"
      },
      "source": [
        "<a href=\"https://colab.research.google.com/github/subshr4/subshr4/blob/main/quiz8.ipynb\" target=\"_parent\"><img src=\"https://colab.research.google.com/assets/colab-badge.svg\" alt=\"Open In Colab\"/></a>"
      ]
    },
    {
      "cell_type": "markdown",
      "source": [
        "Subani Shrestha"
      ],
      "metadata": {
        "id": "pwvx2LOoiJJZ"
      }
    },
    {
      "cell_type": "markdown",
      "source": [
        "1) Here I imported Beautiful Soup which is a Python library for pulling data out of HTML."
      ],
      "metadata": {
        "id": "RNcx8pcykQxz"
      }
    },
    {
      "cell_type": "code",
      "source": [
        "import requests\n",
        "import pandas as pa\n",
        "from bs4 import BeautifulSoup"
      ],
      "metadata": {
        "id": "0VZkpy2tiJdg"
      },
      "execution_count": 1,
      "outputs": []
    },
    {
      "cell_type": "markdown",
      "source": [
        "2) Here I entered the link of my favourite television show (FRIENDS) and gathered the HTML."
      ],
      "metadata": {
        "id": "DBXQ-oa6kkwO"
      }
    },
    {
      "cell_type": "code",
      "source": [
        "r = requests.get('https://en.wikipedia.org/wiki/Friends')\n",
        "html_contents = r.text\n",
        "html_soup = BeautifulSoup(html_contents,\"lxml\")\n",
        "#html_soup"
      ],
      "metadata": {
        "id": "ER93rn-xiQrk"
      },
      "execution_count": 2,
      "outputs": []
    },
    {
      "cell_type": "markdown",
      "source": [
        "3) Here I used title function to get the title."
      ],
      "metadata": {
        "id": "hvySdEfPk-xj"
      }
    },
    {
      "cell_type": "code",
      "source": [
        "html_soup.title"
      ],
      "metadata": {
        "colab": {
          "base_uri": "https://localhost:8080/"
        },
        "id": "m9HFJiMniceE",
        "outputId": "4972eba7-7dd7-4eb4-e51f-2e34eac8771b"
      },
      "execution_count": 3,
      "outputs": [
        {
          "output_type": "execute_result",
          "data": {
            "text/plain": [
              "<title>Friends - Wikipedia</title>"
            ]
          },
          "metadata": {},
          "execution_count": 3
        }
      ]
    },
    {
      "cell_type": "markdown",
      "source": [
        "4) Here I used table function to display the table."
      ],
      "metadata": {
        "id": "AazWOfUclUS7"
      }
    },
    {
      "cell_type": "code",
      "source": [
        "html_soup.table"
      ],
      "metadata": {
        "colab": {
          "base_uri": "https://localhost:8080/"
        },
        "id": "fYIG9ApZkKSP",
        "outputId": "88b92bdf-040b-47c0-d89a-c653ce311284"
      },
      "execution_count": 9,
      "outputs": [
        {
          "output_type": "execute_result",
          "data": {
            "text/plain": [
              "<table class=\"infobox vevent\"><tbody><tr><th class=\"infobox-above summary\" colspan=\"2\" style=\"background: #CCCCFF; padding: 0.25em 1em; font-size: 125%;\"><i>Friends</i></th></tr><tr><td class=\"infobox-image\" colspan=\"2\"><a class=\"image\" href=\"/wiki/File:Friends_logo.svg\"><img alt=\"Friends logo.svg\" data-file-height=\"196\" data-file-width=\"1186\" decoding=\"async\" height=\"41\" src=\"//upload.wikimedia.org/wikipedia/commons/thumb/b/bc/Friends_logo.svg/250px-Friends_logo.svg.png\" srcset=\"//upload.wikimedia.org/wikipedia/commons/thumb/b/bc/Friends_logo.svg/375px-Friends_logo.svg.png 1.5x, //upload.wikimedia.org/wikipedia/commons/thumb/b/bc/Friends_logo.svg/500px-Friends_logo.svg.png 2x\" width=\"250\"/></a></td></tr><tr><th class=\"infobox-label\" scope=\"row\">Genre</th><td class=\"infobox-data category\">Sitcom</td></tr><tr><th class=\"infobox-label\" scope=\"row\">Created by</th><td class=\"infobox-data\"><div class=\"plainlist\">\n",
              "<ul><li><a href=\"/wiki/David_Crane_(producer)\" title=\"David Crane (producer)\">David Crane</a></li>\n",
              "<li><a href=\"/wiki/Marta_Kauffman\" title=\"Marta Kauffman\">Marta Kauffman</a></li></ul>\n",
              "</div></td></tr><tr><th class=\"infobox-label\" scope=\"row\">Starring</th><td class=\"infobox-data attendee\"><div class=\"plainlist\">\n",
              "<ul><li><a href=\"/wiki/Jennifer_Aniston\" title=\"Jennifer Aniston\">Jennifer Aniston</a></li>\n",
              "<li><a href=\"/wiki/Courteney_Cox\" title=\"Courteney Cox\">Courteney Cox</a></li>\n",
              "<li><a href=\"/wiki/Lisa_Kudrow\" title=\"Lisa Kudrow\">Lisa Kudrow</a></li>\n",
              "<li><a href=\"/wiki/Matt_LeBlanc\" title=\"Matt LeBlanc\">Matt LeBlanc</a></li>\n",
              "<li><a href=\"/wiki/Matthew_Perry\" title=\"Matthew Perry\">Matthew Perry</a></li>\n",
              "<li><a href=\"/wiki/David_Schwimmer\" title=\"David Schwimmer\">David Schwimmer</a></li></ul>\n",
              "</div></td></tr><tr><th class=\"infobox-label\" scope=\"row\">Theme music composer</th><td class=\"infobox-data\"><div class=\"plainlist\">\n",
              "<ul><li>Michael Skloff</li>\n",
              "<li><a href=\"/wiki/Allee_Willis\" title=\"Allee Willis\">Allee Willis</a></li></ul>\n",
              "</div></td></tr><tr><th class=\"infobox-label\" scope=\"row\">Opening theme</th><td class=\"infobox-data\">\"<a href=\"/wiki/I%27ll_Be_There_for_You_(The_Rembrandts_song)\" title=\"I'll Be There for You (The Rembrandts song)\">I'll Be There for You</a>\"<br/>by <a href=\"/wiki/The_Rembrandts\" title=\"The Rembrandts\">The Rembrandts</a></td></tr><tr><th class=\"infobox-label\" scope=\"row\">Country of origin</th><td class=\"infobox-data\">United States</td></tr><tr><th class=\"infobox-label\" scope=\"row\">Original language</th><td class=\"infobox-data\">English</td></tr><tr><th class=\"infobox-label\" scope=\"row\"><abbr title=\"Number\">No.</abbr> of seasons</th><td class=\"infobox-data\">10</td></tr><tr><th class=\"infobox-label\" scope=\"row\"><abbr title=\"Number\">No.</abbr> of episodes</th><td class=\"infobox-data\">236 <span class=\"nowrap\">(<a href=\"/wiki/List_of_Friends_episodes\" title=\"List of Friends episodes\">list of episodes</a>)</span></td></tr><tr><th class=\"infobox-header summary\" colspan=\"2\" style=\"background: #CCCCFF; padding: 0.25em 1em;\">Production</th></tr><tr><th class=\"infobox-label\" scope=\"row\">Executive producers</th><td class=\"infobox-data\"><div class=\"plainlist\">\n",
              "<ul><li>David Crane</li>\n",
              "<li>Marta Kauffman</li>\n",
              "<li><a href=\"/wiki/Kevin_S._Bright\" title=\"Kevin S. Bright\">Kevin S. Bright</a></li>\n",
              "<li><a href=\"/wiki/Michael_Borkow\" title=\"Michael Borkow\">Michael Borkow</a> (season 4)</li>\n",
              "<li><a href=\"/wiki/Michael_Curtis_(TV_producer)\" title=\"Michael Curtis (TV producer)\">Michael Curtis</a> (season 5)</li>\n",
              "<li><a href=\"/wiki/Adam_Chase_(writer)\" title=\"Adam Chase (writer)\">Adam Chase</a> (seasons 5–6)</li>\n",
              "<li><a href=\"/wiki/Greg_Malins\" title=\"Greg Malins\">Greg Malins</a> (seasons 5–7)</li>\n",
              "<li><a href=\"/wiki/Wil_Calhoun\" title=\"Wil Calhoun\">Wil Calhoun</a> (season 7)</li>\n",
              "<li><a href=\"/wiki/Scott_Silveri\" title=\"Scott Silveri\">Scott Silveri</a> (seasons 8–10)</li>\n",
              "<li><a href=\"/wiki/Shana_Goldberg-Meehan\" title=\"Shana Goldberg-Meehan\">Shana Goldberg-Meehan</a> (seasons 8–10)</li>\n",
              "<li><a href=\"/wiki/Andrew_Reich\" title=\"Andrew Reich\">Andrew Reich</a> (seasons 8–10)</li>\n",
              "<li>Ted Cohen (seasons 8–10)</li></ul>\n",
              "</div></td></tr><tr><th class=\"infobox-label\" scope=\"row\">Production locations</th><td class=\"infobox-data\"><a href=\"/wiki/Warner_Bros._Studios,_Burbank\" title=\"Warner Bros. Studios, Burbank\">Warner Bros. Studios</a>, <a href=\"/wiki/Burbank,_California\" title=\"Burbank, California\">Burbank</a>,\n",
              "California</td></tr><tr><th class=\"infobox-label\" scope=\"row\">Camera setup</th><td class=\"infobox-data\"><a href=\"/wiki/Multiple-camera_setup\" title=\"Multiple-camera setup\">Multi-camera</a></td></tr><tr><th class=\"infobox-label\" scope=\"row\">Running time</th><td class=\"infobox-data\">20–22 minutes (per episode)<br/>22–65 minutes (extended international TV &amp; DVD episodes)</td></tr><tr><th class=\"infobox-label\" scope=\"row\">Production companies</th><td class=\"infobox-data\"><div class=\"plainlist\">\n",
              "<ul><li><a href=\"/wiki/Kevin_S._Bright\" title=\"Kevin S. Bright\">Bright/Kauffman/Crane Productions</a></li>\n",
              "<li><a class=\"mw-redirect\" href=\"/wiki/Warner_Bros._Television\" title=\"Warner Bros. Television\">Warner Bros. Television</a></li></ul>\n",
              "</div></td></tr><tr><th class=\"infobox-label\" scope=\"row\">Distributor</th><td class=\"infobox-data\"><a class=\"mw-redirect\" href=\"/wiki/Warner_Bros._Television_Distribution\" title=\"Warner Bros. Television Distribution\">Warner Bros. Television Distribution</a></td></tr><tr><th class=\"infobox-header summary\" colspan=\"2\" style=\"background: #CCCCFF; padding: 0.25em 1em;\">Release</th></tr><tr><th class=\"infobox-label\" scope=\"row\">Original network</th><td class=\"infobox-data\"><a href=\"/wiki/NBC\" title=\"NBC\">NBC</a></td></tr><tr><th class=\"infobox-label\" scope=\"row\">Picture format</th><td class=\"infobox-data\"><a href=\"/wiki/NTSC\" title=\"NTSC\">NTSC</a></td></tr><tr><th class=\"infobox-label\" scope=\"row\">Audio format</th><td class=\"infobox-data\"><a class=\"mw-redirect\" href=\"/wiki/Dolby_Surround\" title=\"Dolby Surround\">Dolby Surround</a></td></tr><tr><th class=\"infobox-label\" scope=\"row\">Original release</th><td class=\"infobox-data\">September 22, 1994<span style=\"display:none\"> (<span class=\"bday dtstart published updated\">1994-09-22</span>)</span> –<br/>May 6, 2004<span style=\"display:none\"> (<span class=\"dtend\">2004-05-06</span>)</span></td></tr><tr><th class=\"infobox-header summary\" colspan=\"2\" style=\"background: #CCCCFF; padding: 0.25em 1em;\">Chronology</th></tr><tr><th class=\"infobox-label\" scope=\"row\">Followed by</th><td class=\"infobox-data\"><i><a href=\"/wiki/Joey_(TV_series)\" title=\"Joey (TV series)\">Joey</a></i> (2004–2006)<br/><i><a href=\"/wiki/Friends:_The_Reunion\" title=\"Friends: The Reunion\">Friends: The Reunion</a></i> (2021)</td></tr></tbody></table>"
            ]
          },
          "metadata": {},
          "execution_count": 9
        }
      ]
    },
    {
      "cell_type": "markdown",
      "source": [
        "5) Here, I used find all function to retrieve all links and stored them in a list."
      ],
      "metadata": {
        "id": "u7p_0dTilpzi"
      }
    },
    {
      "cell_type": "code",
      "source": [
        "links = html_soup.table.find_all('a')\n",
        "listOfURLS = []\n",
        "\n",
        "for link in links:\n",
        "  listOfURLS.append('https://en.wikipedia.org/wiki/Friends' + link['href'])\n",
        "\n",
        "listOfURLS"
      ],
      "metadata": {
        "colab": {
          "base_uri": "https://localhost:8080/"
        },
        "id": "zSP9nXqliqH0",
        "outputId": "88fc1e7e-ae9e-47bb-b258-e756112670c1"
      },
      "execution_count": 8,
      "outputs": [
        {
          "output_type": "execute_result",
          "data": {
            "text/plain": [
              "['https://en.wikipedia.org/wiki/Friends/wiki/File:Friends_logo.svg',\n",
              " 'https://en.wikipedia.org/wiki/Friends/wiki/David_Crane_(producer)',\n",
              " 'https://en.wikipedia.org/wiki/Friends/wiki/Marta_Kauffman',\n",
              " 'https://en.wikipedia.org/wiki/Friends/wiki/Jennifer_Aniston',\n",
              " 'https://en.wikipedia.org/wiki/Friends/wiki/Courteney_Cox',\n",
              " 'https://en.wikipedia.org/wiki/Friends/wiki/Lisa_Kudrow',\n",
              " 'https://en.wikipedia.org/wiki/Friends/wiki/Matt_LeBlanc',\n",
              " 'https://en.wikipedia.org/wiki/Friends/wiki/Matthew_Perry',\n",
              " 'https://en.wikipedia.org/wiki/Friends/wiki/David_Schwimmer',\n",
              " 'https://en.wikipedia.org/wiki/Friends/wiki/Allee_Willis',\n",
              " 'https://en.wikipedia.org/wiki/Friends/wiki/I%27ll_Be_There_for_You_(The_Rembrandts_song)',\n",
              " 'https://en.wikipedia.org/wiki/Friends/wiki/The_Rembrandts',\n",
              " 'https://en.wikipedia.org/wiki/Friends/wiki/List_of_Friends_episodes',\n",
              " 'https://en.wikipedia.org/wiki/Friends/wiki/Kevin_S._Bright',\n",
              " 'https://en.wikipedia.org/wiki/Friends/wiki/Michael_Borkow',\n",
              " 'https://en.wikipedia.org/wiki/Friends/wiki/Michael_Curtis_(TV_producer)',\n",
              " 'https://en.wikipedia.org/wiki/Friends/wiki/Adam_Chase_(writer)',\n",
              " 'https://en.wikipedia.org/wiki/Friends/wiki/Greg_Malins',\n",
              " 'https://en.wikipedia.org/wiki/Friends/wiki/Wil_Calhoun',\n",
              " 'https://en.wikipedia.org/wiki/Friends/wiki/Scott_Silveri',\n",
              " 'https://en.wikipedia.org/wiki/Friends/wiki/Shana_Goldberg-Meehan',\n",
              " 'https://en.wikipedia.org/wiki/Friends/wiki/Andrew_Reich',\n",
              " 'https://en.wikipedia.org/wiki/Friends/wiki/Warner_Bros._Studios,_Burbank',\n",
              " 'https://en.wikipedia.org/wiki/Friends/wiki/Burbank,_California',\n",
              " 'https://en.wikipedia.org/wiki/Friends/wiki/Multiple-camera_setup',\n",
              " 'https://en.wikipedia.org/wiki/Friends/wiki/Kevin_S._Bright',\n",
              " 'https://en.wikipedia.org/wiki/Friends/wiki/Warner_Bros._Television',\n",
              " 'https://en.wikipedia.org/wiki/Friends/wiki/Warner_Bros._Television_Distribution',\n",
              " 'https://en.wikipedia.org/wiki/Friends/wiki/NBC',\n",
              " 'https://en.wikipedia.org/wiki/Friends/wiki/NTSC',\n",
              " 'https://en.wikipedia.org/wiki/Friends/wiki/Dolby_Surround',\n",
              " 'https://en.wikipedia.org/wiki/Friends/wiki/Joey_(TV_series)',\n",
              " 'https://en.wikipedia.org/wiki/Friends/wiki/Friends:_The_Reunion']"
            ]
          },
          "metadata": {},
          "execution_count": 8
        }
      ]
    }
  ]
}