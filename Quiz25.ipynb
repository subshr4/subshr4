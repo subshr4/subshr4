{
  "nbformat": 4,
  "nbformat_minor": 0,
  "metadata": {
    "colab": {
      "name": "Quiz25.ipynb",
      "provenance": [],
      "authorship_tag": "ABX9TyPJqAwl+/OVdCBeJzysOMT7",
      "include_colab_link": true
    },
    "kernelspec": {
      "name": "python3",
      "display_name": "Python 3"
    },
    "language_info": {
      "name": "python"
    }
  },
  "cells": [
    {
      "cell_type": "markdown",
      "metadata": {
        "id": "view-in-github",
        "colab_type": "text"
      },
      "source": [
        "<a href=\"https://colab.research.google.com/github/subshr4/subshr4/blob/main/Quiz25.ipynb\" target=\"_parent\"><img src=\"https://colab.research.google.com/assets/colab-badge.svg\" alt=\"Open In Colab\"/></a>"
      ]
    },
    {
      "cell_type": "markdown",
      "source": [
        "Subani Shrestha"
      ],
      "metadata": {
        "id": "r9IH3_7O_96v"
      }
    },
    {
      "cell_type": "markdown",
      "source": [
        "Here I imported pandas and Air B&B NYC data by using read_csv command. Then I displayed histogram of the price and a histogram of the price broken down by 'neighbourhood_group' by using 120 and 100 bins width as it gives more clarity to the histogram. If I used less bins width then it would not have been clearly distributed."
      ],
      "metadata": {
        "id": "wzj7mJmKLfjD"
      }
    },
    {
      "cell_type": "code",
      "source": [
        "import pandas as pa\n",
        "\n",
        "df = pa.read_csv('https://raw.githubusercontent.com/nurfnick/Data_Viz/main/AB_NYC_2019.csv')"
      ],
      "metadata": {
        "id": "mRcu03Hv__fx"
      },
      "execution_count": 1,
      "outputs": []
    },
    {
      "cell_type": "code",
      "source": [
        "df.groupby('neighbourhood_group').price.plot.hist(title = \"Histogram of the Price of Air B&B in NYC\",bins = 120)"
      ],
      "metadata": {
        "colab": {
          "base_uri": "https://localhost:8080/",
          "height": 400
        },
        "id": "CA9I5F3mHZGM",
        "outputId": "2872e698-805b-462a-ee4c-7c2c0dc01265"
      },
      "execution_count": 20,
      "outputs": [
        {
          "output_type": "execute_result",
          "data": {
            "text/plain": [
              "neighbourhood_group\n",
              "Bronx            AxesSubplot(0.125,0.125;0.775x0.755)\n",
              "Brooklyn         AxesSubplot(0.125,0.125;0.775x0.755)\n",
              "Manhattan        AxesSubplot(0.125,0.125;0.775x0.755)\n",
              "Queens           AxesSubplot(0.125,0.125;0.775x0.755)\n",
              "Staten Island    AxesSubplot(0.125,0.125;0.775x0.755)\n",
              "Name: price, dtype: object"
            ]
          },
          "metadata": {},
          "execution_count": 20
        },
        {
          "output_type": "display_data",
          "data": {
            "text/plain": [
              "<Figure size 432x288 with 1 Axes>"
            ],
            "image/png": "[encoded data removed]"
          },
          "metadata": {
            "needs_background": "light"
          }
        }
      ]
    },
    {
      "cell_type": "code",
      "source": [
        "df.groupby('neighbourhood_group').price.plot.hist( bins = 100, xlim = [0,2000],title = \"Histogram of the price of AirB&B in NYC with outlier removed\")"
      ],
      "metadata": {
        "colab": {
          "base_uri": "https://localhost:8080/",
          "height": 400
        },
        "id": "gUy_D4oAKw9w",
        "outputId": "697f8ced-6126-4fe1-bbee-2766e0d22c71"
      },
      "execution_count": 19,
      "outputs": [
        {
          "output_type": "execute_result",
          "data": {
            "text/plain": [
              "neighbourhood_group\n",
              "Bronx            AxesSubplot(0.125,0.125;0.775x0.755)\n",
              "Brooklyn         AxesSubplot(0.125,0.125;0.775x0.755)\n",
              "Manhattan        AxesSubplot(0.125,0.125;0.775x0.755)\n",
              "Queens           AxesSubplot(0.125,0.125;0.775x0.755)\n",
              "Staten Island    AxesSubplot(0.125,0.125;0.775x0.755)\n",
              "Name: price, dtype: object"
            ]
          },
          "metadata": {},
          "execution_count": 19
        },
        {
          "output_type": "display_data",
          "data": {
            "text/plain": [
              "<Figure size 432x288 with 1 Axes>"
            ],
            "image/png": "[encoded data removed]"
          },
          "metadata": {
            "needs_background": "light"
          }
        }
      ]
    }
  ]
}