{
  "nbformat": 4,
  "nbformat_minor": 0,
  "metadata": {
    "colab": {
      "name": "Exam1.ipynb",
      "provenance": [],
      "authorship_tag": "ABX9TyMTtclrHqaU4Ly46HkyTrlE",
      "include_colab_link": true
    },
    "kernelspec": {
      "name": "python3",
      "display_name": "Python 3"
    },
    "language_info": {
      "name": "python"
    }
  },
  "cells": [
    {
      "cell_type": "markdown",
      "metadata": {
        "id": "view-in-github",
        "colab_type": "text"
      },
      "source": [
        "<a href=\"https://colab.research.google.com/github/subshr4/subshr4/blob/main/Exam1.ipynb\" target=\"_parent\"><img src=\"https://colab.research.google.com/assets/colab-badge.svg\" alt=\"Open In Colab\"/></a>"
      ]
    },
    {
      "cell_type": "markdown",
      "source": [
        "Exam 1"
      ],
      "metadata": {
        "id": "638w1UJrV1Fy"
      }
    },
    {
      "cell_type": "markdown",
      "source": [
        "Subani Shrestha"
      ],
      "metadata": {
        "id": "sm6nn-kTWExh"
      }
    },
    {
      "cell_type": "markdown",
      "source": [
        "CPSMA 4313"
      ],
      "metadata": {
        "id": "rJvqgg-uV9b8"
      }
    },
    {
      "cell_type": "markdown",
      "source": [
        "1) \n",
        "\n",
        "(from code box number 1 to 6)\n",
        "\n",
        " Firstly, I gathered the table on 8000 km mountains from the wikipedia page (List of mountain by elevation) by importing pandas, importing requests that is going to gather the raw html, and BeautifulSoup that will help to parse the code. Then I used read_html command and passed it to pandas to get a proper table.\n",
        "\n",
        "\n",
        "\n",
        "https://github.com/nurfnick/Data_Viz/blob/main/08_html.ipynb\n",
        "\n",
        "\n",
        "https://github.com/subshr4/subshr4/blob/main/quiz9.ipynb"
      ],
      "metadata": {
        "id": "mm14wJJbafA5"
      }
    },
    {
      "cell_type": "code",
      "source": [
        "import requests\n",
        "import pandas as pa\n",
        "from bs4 import BeautifulSoup\n"
      ],
      "metadata": {
        "id": "NPIPH3O1X5cD"
      },
      "execution_count": 9,
      "outputs": []
    },
    {
      "cell_type": "code",
      "source": [
        "r = requests.get('https://en.wikipedia.org/wiki/List_of_mountains_by_elevation')\n",
        "html_contents = r.text\n",
        "html_soup = BeautifulSoup(html_contents,\"lxml\")"
      ],
      "metadata": {
        "id": "lUihaYqaYCuG"
      },
      "execution_count": 10,
      "outputs": []
    },
    {
      "cell_type": "code",
      "source": [
        "html_soup.table"
      ],
      "metadata": {
        "colab": {
          "base_uri": "https://localhost:8080/"
        },
        "id": "tTgHxkS3Z58F",
        "outputId": "517a2af5-1374-4f2c-8b96-b896a925877d"
      },
      "execution_count": 11,
      "outputs": [
        {
          "output_type": "execute_result",
          "data": {
            "text/plain": [
              "<table class=\"wikitable sortable\">\n",
              "<tbody><tr>\n",
              "<th>Mountain</th>\n",
              "<th>Metres</th>\n",
              "<th>Feet</th>\n",
              "<th>Range</th>\n",
              "<th>Location and Notes\n",
              "</th></tr>\n",
              "<tr>\n",
              "<td><a href=\"/wiki/Mount_Everest\" title=\"Mount Everest\">Mount Everest</a></td>\n",
              "<td>8,848</td>\n",
              "<td>29,029</td>\n",
              "<td>Himalayas  </td>\n",
              "<td><a href=\"/wiki/Geography_of_Nepal\" title=\"Geography of Nepal\">Nepal</a>/China\n",
              "</td></tr>\n",
              "<tr>\n",
              "<td><a href=\"/wiki/K2\" title=\"K2\">K2</a></td>\n",
              "<td>8,611</td>\n",
              "<td>28,251</td>\n",
              "<td>Karakoram  </td>\n",
              "<td>Pakistan/China\n",
              "</td></tr>\n",
              "<tr>\n",
              "<td><a href=\"/wiki/Kangchenjunga\" title=\"Kangchenjunga\">Kangchenjunga</a></td>\n",
              "<td>8,586</td>\n",
              "<td>28,169</td>\n",
              "<td>Himalayas  </td>\n",
              "<td>Nepal/India\n",
              "</td></tr>\n",
              "<tr>\n",
              "<td><a href=\"/wiki/Lhotse\" title=\"Lhotse\">Lhotse</a></td>\n",
              "<td>8,516</td>\n",
              "<td>27,940</td>\n",
              "<td>Himalayas  </td>\n",
              "<td>Nepal<small> – Climbers ascend Lhotse Face in climbing Everest</small>\n",
              "</td></tr>\n",
              "<tr>\n",
              "<td><a href=\"/wiki/Makalu\" title=\"Makalu\">Makalu</a></td>\n",
              "<td>8,485</td>\n",
              "<td>27,838</td>\n",
              "<td>Himalayas  </td>\n",
              "<td>Nepal\n",
              "</td></tr>\n",
              "<tr>\n",
              "<td><a href=\"/wiki/Cho_Oyu\" title=\"Cho Oyu\">Cho Oyu</a></td>\n",
              "<td>8,188</td>\n",
              "<td>26,864</td>\n",
              "<td>Himalayas  </td>\n",
              "<td>Nepal<small> – Considered \"easiest\" eight-thousander</small>\n",
              "</td></tr>\n",
              "<tr>\n",
              "<td><a href=\"/wiki/Dhaulagiri\" title=\"Dhaulagiri\">Dhaulagiri</a></td>\n",
              "<td>8,167</td>\n",
              "<td>26,795</td>\n",
              "<td>Himalayas  </td>\n",
              "<td>Nepal<small> – Presumed world's highest from 1808-1838</small>\n",
              "</td></tr>\n",
              "<tr>\n",
              "<td><a href=\"/wiki/Manaslu\" title=\"Manaslu\">Manaslu</a></td>\n",
              "<td>8,163</td>\n",
              "<td>26,781</td>\n",
              "<td>Himalayas  </td>\n",
              "<td>Nepal\n",
              "</td></tr>\n",
              "<tr>\n",
              "<td><a href=\"/wiki/Nanga_Parbat\" title=\"Nanga Parbat\">Nanga Parbat</a></td>\n",
              "<td>8,126</td>\n",
              "<td>26,660</td>\n",
              "<td>Himalayas  </td>\n",
              "<td>Pakistan\n",
              "</td></tr>\n",
              "<tr>\n",
              "<td><a href=\"/wiki/Annapurna\" title=\"Annapurna\">Annapurna</a></td>\n",
              "<td>8,091</td>\n",
              "<td>26,545</td>\n",
              "<td>Himalayas  </td>\n",
              "<td>Nepal<small> – First eight-thousander to be climbed (1950)</small>\n",
              "</td></tr>\n",
              "<tr>\n",
              "<td><a href=\"/wiki/Gasherbrum_I\" title=\"Gasherbrum I\">Gasherbrum I</a> (Hidden peak; K5)</td>\n",
              "<td>8,080</td>\n",
              "<td>26,509</td>\n",
              "<td>Karakoram  </td>\n",
              "<td>Pakistan /China<small> – Originally named K5</small>\n",
              "</td></tr>\n",
              "<tr>\n",
              "<td><a href=\"/wiki/Broad_Peak\" title=\"Broad Peak\">Broad Peak</a></td>\n",
              "<td>8,051</td>\n",
              "<td>26,414</td>\n",
              "<td>Karakoram  </td>\n",
              "<td>Pakistan /China\n",
              "</td></tr>\n",
              "<tr>\n",
              "<td><a href=\"/wiki/Gasherbrum_II\" title=\"Gasherbrum II\">Gasherbrum II</a> (K4)</td>\n",
              "<td>8,035</td>\n",
              "<td>26,362</td>\n",
              "<td>Karakoram  </td>\n",
              "<td>Pakistan/China<small> – Originally named K4</small>\n",
              "</td></tr>\n",
              "<tr>\n",
              "<td><a href=\"/wiki/Shishapangma\" title=\"Shishapangma\">Shishapangma</a></td>\n",
              "<td>8,027</td>\n",
              "<td>26,335</td>\n",
              "<td>Himalayas  </td>\n",
              "<td>China\n",
              "</td></tr></tbody></table>"
            ]
          },
          "metadata": {},
          "execution_count": 11
        }
      ]
    },
    {
      "cell_type": "code",
      "source": [
        "tables = html_soup.find_all('table',class_=\"wikitable\")\n",
        "tables[0].find_all('a')"
      ],
      "metadata": {
        "colab": {
          "base_uri": "https://localhost:8080/"
        },
        "id": "ODyMOb6yZ9JG",
        "outputId": "b9df5462-6036-4dcd-ece9-2a12bd859aed"
      },
      "execution_count": 12,
      "outputs": [
        {
          "output_type": "execute_result",
          "data": {
            "text/plain": [
              "[<a href=\"/wiki/Mount_Everest\" title=\"Mount Everest\">Mount Everest</a>,\n",
              " <a href=\"/wiki/Geography_of_Nepal\" title=\"Geography of Nepal\">Nepal</a>,\n",
              " <a href=\"/wiki/K2\" title=\"K2\">K2</a>,\n",
              " <a href=\"/wiki/Kangchenjunga\" title=\"Kangchenjunga\">Kangchenjunga</a>,\n",
              " <a href=\"/wiki/Lhotse\" title=\"Lhotse\">Lhotse</a>,\n",
              " <a href=\"/wiki/Makalu\" title=\"Makalu\">Makalu</a>,\n",
              " <a href=\"/wiki/Cho_Oyu\" title=\"Cho Oyu\">Cho Oyu</a>,\n",
              " <a href=\"/wiki/Dhaulagiri\" title=\"Dhaulagiri\">Dhaulagiri</a>,\n",
              " <a href=\"/wiki/Manaslu\" title=\"Manaslu\">Manaslu</a>,\n",
              " <a href=\"/wiki/Nanga_Parbat\" title=\"Nanga Parbat\">Nanga Parbat</a>,\n",
              " <a href=\"/wiki/Annapurna\" title=\"Annapurna\">Annapurna</a>,\n",
              " <a href=\"/wiki/Gasherbrum_I\" title=\"Gasherbrum I\">Gasherbrum I</a>,\n",
              " <a href=\"/wiki/Broad_Peak\" title=\"Broad Peak\">Broad Peak</a>,\n",
              " <a href=\"/wiki/Gasherbrum_II\" title=\"Gasherbrum II\">Gasherbrum II</a>,\n",
              " <a href=\"/wiki/Shishapangma\" title=\"Shishapangma\">Shishapangma</a>]"
            ]
          },
          "metadata": {},
          "execution_count": 12
        }
      ]
    },
    {
      "cell_type": "code",
      "source": [
        "df = pa.read_html(str(tables))[0]\n",
        "df"
      ],
      "metadata": {
        "colab": {
          "base_uri": "https://localhost:8080/",
          "height": 483
        },
        "id": "Xus_Kxw5aQ3T",
        "outputId": "ba4296bc-b2f4-4927-db2e-d756d1fc2980"
      },
      "execution_count": 13,
      "outputs": [
        {
          "output_type": "execute_result",
          "data": {
            "text/html": [
              "\n",
              "  <div id=\"df-4d1e36ea-16a9-41a4-9584-c1d21891e377\">\n",
              "    <div class=\"colab-df-container\">\n",
              "      <div>\n",
              "<style scoped>\n",
              "    .dataframe tbody tr th:only-of-type {\n",
              "        vertical-align: middle;\n",
              "    }\n",
              "\n",
              "    .dataframe tbody tr th {\n",
              "        vertical-align: top;\n",
              "    }\n",
              "\n",
              "    .dataframe thead th {\n",
              "        text-align: right;\n",
              "    }\n",
              "</style>\n",
              "<table border=\"1\" class=\"dataframe\">\n",
              "  <thead>\n",
              "    <tr style=\"text-align: right;\">\n",
              "      <th></th>\n",
              "      <th>Mountain</th>\n",
              "      <th>Metres</th>\n",
              "      <th>Feet</th>\n",
              "      <th>Range</th>\n",
              "      <th>Location and Notes</th>\n",
              "    </tr>\n",
              "  </thead>\n",
              "  <tbody>\n",
              "    <tr>\n",
              "      <th>0</th>\n",
              "      <td>Mount Everest</td>\n",
              "      <td>8848</td>\n",
              "      <td>29029</td>\n",
              "      <td>Himalayas</td>\n",
              "      <td>Nepal/China</td>\n",
              "    </tr>\n",
              "    <tr>\n",
              "      <th>1</th>\n",
              "      <td>K2</td>\n",
              "      <td>8611</td>\n",
              "      <td>28251</td>\n",
              "      <td>Karakoram</td>\n",
              "      <td>Pakistan/China</td>\n",
              "    </tr>\n",
              "    <tr>\n",
              "      <th>2</th>\n",
              "      <td>Kangchenjunga</td>\n",
              "      <td>8586</td>\n",
              "      <td>28169</td>\n",
              "      <td>Himalayas</td>\n",
              "      <td>Nepal/India</td>\n",
              "    </tr>\n",
              "    <tr>\n",
              "      <th>3</th>\n",
              "      <td>Lhotse</td>\n",
              "      <td>8516</td>\n",
              "      <td>27940</td>\n",
              "      <td>Himalayas</td>\n",
              "      <td>Nepal – Climbers ascend Lhotse Face in climbin...</td>\n",
              "    </tr>\n",
              "    <tr>\n",
              "      <th>4</th>\n",
              "      <td>Makalu</td>\n",
              "      <td>8485</td>\n",
              "      <td>27838</td>\n",
              "      <td>Himalayas</td>\n",
              "      <td>Nepal</td>\n",
              "    </tr>\n",
              "    <tr>\n",
              "      <th>5</th>\n",
              "      <td>Cho Oyu</td>\n",
              "      <td>8188</td>\n",
              "      <td>26864</td>\n",
              "      <td>Himalayas</td>\n",
              "      <td>Nepal – Considered \"easiest\" eight-thousander</td>\n",
              "    </tr>\n",
              "    <tr>\n",
              "      <th>6</th>\n",
              "      <td>Dhaulagiri</td>\n",
              "      <td>8167</td>\n",
              "      <td>26795</td>\n",
              "      <td>Himalayas</td>\n",
              "      <td>Nepal – Presumed world's highest from 1808-1838</td>\n",
              "    </tr>\n",
              "    <tr>\n",
              "      <th>7</th>\n",
              "      <td>Manaslu</td>\n",
              "      <td>8163</td>\n",
              "      <td>26781</td>\n",
              "      <td>Himalayas</td>\n",
              "      <td>Nepal</td>\n",
              "    </tr>\n",
              "    <tr>\n",
              "      <th>8</th>\n",
              "      <td>Nanga Parbat</td>\n",
              "      <td>8126</td>\n",
              "      <td>26660</td>\n",
              "      <td>Himalayas</td>\n",
              "      <td>Pakistan</td>\n",
              "    </tr>\n",
              "    <tr>\n",
              "      <th>9</th>\n",
              "      <td>Annapurna</td>\n",
              "      <td>8091</td>\n",
              "      <td>26545</td>\n",
              "      <td>Himalayas</td>\n",
              "      <td>Nepal – First eight-thousander to be climbed (...</td>\n",
              "    </tr>\n",
              "    <tr>\n",
              "      <th>10</th>\n",
              "      <td>Gasherbrum I (Hidden peak; K5)</td>\n",
              "      <td>8080</td>\n",
              "      <td>26509</td>\n",
              "      <td>Karakoram</td>\n",
              "      <td>Pakistan /China – Originally named K5</td>\n",
              "    </tr>\n",
              "    <tr>\n",
              "      <th>11</th>\n",
              "      <td>Broad Peak</td>\n",
              "      <td>8051</td>\n",
              "      <td>26414</td>\n",
              "      <td>Karakoram</td>\n",
              "      <td>Pakistan /China</td>\n",
              "    </tr>\n",
              "    <tr>\n",
              "      <th>12</th>\n",
              "      <td>Gasherbrum II (K4)</td>\n",
              "      <td>8035</td>\n",
              "      <td>26362</td>\n",
              "      <td>Karakoram</td>\n",
              "      <td>Pakistan/China – Originally named K4</td>\n",
              "    </tr>\n",
              "    <tr>\n",
              "      <th>13</th>\n",
              "      <td>Shishapangma</td>\n",
              "      <td>8027</td>\n",
              "      <td>26335</td>\n",
              "      <td>Himalayas</td>\n",
              "      <td>China</td>\n",
              "    </tr>\n",
              "  </tbody>\n",
              "</table>\n",
              "</div>\n",
              "      <button class=\"colab-df-convert\" onclick=\"convertToInteractive('df-4d1e36ea-16a9-41a4-9584-c1d21891e377')\"\n",
              "              title=\"Convert this dataframe to an interactive table.\"\n",
              "              style=\"display:none;\">\n",
              "        \n",
              "  <svg xmlns=\"http://www.w3.org/2000/svg\" height=\"24px\"viewBox=\"0 0 24 24\"\n",
              "       width=\"24px\">\n",
              "    <path d=\"M0 0h24v24H0V0z\" fill=\"none\"/>\n",
              "    <path d=\"M18.56 5.44l.94 2.06.94-2.06 2.06-.94-2.06-.94-.94-2.06-.94 2.06-2.06.94zm-11 1L8.5 8.5l.94-2.06 2.06-.94-2.06-.94L8.5 2.5l-.94 2.06-2.06.94zm10 10l.94 2.06.94-2.06 2.06-.94-2.06-.94-.94-2.06-.94 2.06-2.06.94z\"/><path d=\"M17.41 7.96l-1.37-1.37c-.4-.4-.92-.59-1.43-.59-.52 0-1.04.2-1.43.59L10.3 9.45l-7.72 7.72c-.78.78-.78 2.05 0 2.83L4 21.41c.39.39.9.59 1.41.59.51 0 1.02-.2 1.41-.59l7.78-7.78 2.81-2.81c.8-.78.8-2.07 0-2.86zM5.41 20L4 18.59l7.72-7.72 1.47 1.35L5.41 20z\"/>\n",
              "  </svg>\n",
              "      </button>\n",
              "      \n",
              "  <style>\n",
              "    .colab-df-container {\n",
              "      display:flex;\n",
              "      flex-wrap:wrap;\n",
              "      gap: 12px;\n",
              "    }\n",
              "\n",
              "    .colab-df-convert {\n",
              "      background-color: #E8F0FE;\n",
              "      border: none;\n",
              "      border-radius: 50%;\n",
              "      cursor: pointer;\n",
              "      display: none;\n",
              "      fill: #1967D2;\n",
              "      height: 32px;\n",
              "      padding: 0 0 0 0;\n",
              "      width: 32px;\n",
              "    }\n",
              "\n",
              "    .colab-df-convert:hover {\n",
              "      background-color: #E2EBFA;\n",
              "      box-shadow: 0px 1px 2px rgba(60, 64, 67, 0.3), 0px 1px 3px 1px rgba(60, 64, 67, 0.15);\n",
              "      fill: #174EA6;\n",
              "    }\n",
              "\n",
              "    [theme=dark] .colab-df-convert {\n",
              "      background-color: #3B4455;\n",
              "      fill: #D2E3FC;\n",
              "    }\n",
              "\n",
              "    [theme=dark] .colab-df-convert:hover {\n",
              "      background-color: #434B5C;\n",
              "      box-shadow: 0px 1px 3px 1px rgba(0, 0, 0, 0.15);\n",
              "      filter: drop-shadow(0px 1px 2px rgba(0, 0, 0, 0.3));\n",
              "      fill: #FFFFFF;\n",
              "    }\n",
              "  </style>\n",
              "\n",
              "      <script>\n",
              "        const buttonEl =\n",
              "          document.querySelector('#df-4d1e36ea-16a9-41a4-9584-c1d21891e377 button.colab-df-convert');\n",
              "        buttonEl.style.display =\n",
              "          google.colab.kernel.accessAllowed ? 'block' : 'none';\n",
              "\n",
              "        async function convertToInteractive(key) {\n",
              "          const element = document.querySelector('#df-4d1e36ea-16a9-41a4-9584-c1d21891e377');\n",
              "          const dataTable =\n",
              "            await google.colab.kernel.invokeFunction('convertToInteractive',\n",
              "                                                     [key], {});\n",
              "          if (!dataTable) return;\n",
              "\n",
              "          const docLinkHtml = 'Like what you see? Visit the ' +\n",
              "            '<a target=\"_blank\" href=https://colab.research.google.com/notebooks/data_table.ipynb>data table notebook</a>'\n",
              "            + ' to learn more about interactive tables.';\n",
              "          element.innerHTML = '';\n",
              "          dataTable['output_type'] = 'display_data';\n",
              "          await google.colab.output.renderOutput(dataTable, element);\n",
              "          const docLink = document.createElement('div');\n",
              "          docLink.innerHTML = docLinkHtml;\n",
              "          element.appendChild(docLink);\n",
              "        }\n",
              "      </script>\n",
              "    </div>\n",
              "  </div>\n",
              "  "
            ],
            "text/plain": [
              "                          Mountain  ...                                 Location and Notes\n",
              "0                    Mount Everest  ...                                        Nepal/China\n",
              "1                               K2  ...                                     Pakistan/China\n",
              "2                    Kangchenjunga  ...                                        Nepal/India\n",
              "3                           Lhotse  ...  Nepal – Climbers ascend Lhotse Face in climbin...\n",
              "4                           Makalu  ...                                              Nepal\n",
              "5                          Cho Oyu  ...      Nepal – Considered \"easiest\" eight-thousander\n",
              "6                       Dhaulagiri  ...    Nepal – Presumed world's highest from 1808-1838\n",
              "7                          Manaslu  ...                                              Nepal\n",
              "8                     Nanga Parbat  ...                                           Pakistan\n",
              "9                        Annapurna  ...  Nepal – First eight-thousander to be climbed (...\n",
              "10  Gasherbrum I (Hidden peak; K5)  ...              Pakistan /China – Originally named K5\n",
              "11                      Broad Peak  ...                                    Pakistan /China\n",
              "12              Gasherbrum II (K4)  ...               Pakistan/China – Originally named K4\n",
              "13                    Shishapangma  ...                                              China\n",
              "\n",
              "[14 rows x 5 columns]"
            ]
          },
          "metadata": {},
          "execution_count": 13
        }
      ]
    },
    {
      "cell_type": "markdown",
      "source": [
        ""
      ],
      "metadata": {
        "id": "GN8rGEkOdhdU"
      }
    }
  ]
}